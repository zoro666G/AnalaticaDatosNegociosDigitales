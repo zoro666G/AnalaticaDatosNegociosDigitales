{
 "cells": [
  {
   "cell_type": "markdown",
   "id": "c5cba167",
   "metadata": {},
   "source": [
    "# Listas\n",
    "\n",
    "1. Objetivos\n",
    "\n",
    "- Entender la sintaxis de las listas en Python\n",
    "- Aprender a crear listas y accesarlas\n",
    "\n",
    "---\n",
    "\n",
    "2. Desarrollo:\n",
    "\n"
   ]
  },
  {
   "cell_type": "markdown",
   "id": "2b0a7a0d",
   "metadata": {},
   "source": [
    "## Creando lista y accediendo a ellas\n",
    "\n",
    "Las listas son secuencias ordenadas. El orden de los datos en la lista es el mismo orden que tienen los datos a la hora de ser asignados. Una lista se ve asi:"
   ]
  },
  {
   "cell_type": "code",
   "execution_count": 1,
   "id": "8a676a8b",
   "metadata": {},
   "outputs": [],
   "source": [
    "lista_1 = [1,4,6,2,4]"
   ]
  },
  {
   "cell_type": "code",
   "execution_count": 2,
   "id": "9ed8988c",
   "metadata": {},
   "outputs": [
    {
     "data": {
      "text/plain": [
       "list"
      ]
     },
     "execution_count": 2,
     "metadata": {},
     "output_type": "execute_result"
    }
   ],
   "source": [
    "type(lista_1)"
   ]
  },
  {
   "cell_type": "markdown",
   "id": "cf2ef440",
   "metadata": {},
   "source": [
    "Cada elemento de la lista tiene un indice, que se utiliza para acceder a dicho elemento. Dado que las listas son ordenadas, los indices se van asignando secuencialmente desde el primer elemento hasta el ultimo, El primer indice siempre es `0`, y por lo tanto el ultimo indice es siempre `n-1`, donde n `n` es el numero total de elementos en la lista."
   ]
  },
  {
   "cell_type": "code",
   "execution_count": 3,
   "id": "fbeb07be",
   "metadata": {},
   "outputs": [
    {
     "name": "stdout",
     "output_type": "stream",
     "text": [
      "Primer elemento de la lista: 1\n",
      "El ultimo elemento de la lista: 4\n"
     ]
    }
   ],
   "source": [
    "# Imprimir el primer elemento de la lista\n",
    "print(f'Primer elemento de la lista: {lista_1[0]}')\n",
    "print(f'El ultimo elemento de la lista: {lista_1[4]}')"
   ]
  },
  {
   "cell_type": "code",
   "execution_count": 7,
   "id": "156aab56",
   "metadata": {},
   "outputs": [
    {
     "ename": "IndexError",
     "evalue": "list index out of range",
     "output_type": "error",
     "traceback": [
      "\u001b[31m---------------------------------------------------------------------------\u001b[39m",
      "\u001b[31mIndexError\u001b[39m                                Traceback (most recent call last)",
      "\u001b[36mCell\u001b[39m\u001b[36m \u001b[39m\u001b[32mIn[7]\u001b[39m\u001b[32m, line 1\u001b[39m\n\u001b[32m----> \u001b[39m\u001b[32m1\u001b[39m \u001b[43mlista_1\u001b[49m\u001b[43m[\u001b[49m\u001b[32;43m5\u001b[39;49m\u001b[43m]\u001b[49m\n",
      "\u001b[31mIndexError\u001b[39m: list index out of range"
     ]
    }
   ],
   "source": [
    "lista_1[5]"
   ]
  },
  {
   "cell_type": "code",
   "execution_count": 1,
   "id": "7064812c",
   "metadata": {},
   "outputs": [
    {
     "name": "stdout",
     "output_type": "stream",
     "text": [
      "Contenido de la lista [10, 5, 7, 2, 1]\n",
      "<class 'list'>\n"
     ]
    }
   ],
   "source": [
    "numbers = [10,5,7,2,1]\n",
    "\n",
    "# Imprimir el contenido de la lista\n",
    "print (f'Contenido de la lista {numbers}')\n",
    "print(type(numbers))"
   ]
  },
  {
   "cell_type": "code",
   "execution_count": 2,
   "id": "d8e85dc8",
   "metadata": {},
   "outputs": [
    {
     "data": {
      "text/plain": [
       "2"
      ]
     },
     "execution_count": 2,
     "metadata": {},
     "output_type": "execute_result"
    }
   ],
   "source": [
    "# Permite acceder al valor que se encuentra en la posicion\n",
    "numbers[3]"
   ]
  },
  {
   "cell_type": "markdown",
   "id": "8f47035a",
   "metadata": {},
   "source": [
    "***Vamos a asignar un nuevo valor 111 al primer elemento en la lista. Lo hacemos de la siguiente manera:***"
   ]
  },
  {
   "cell_type": "code",
   "execution_count": 3,
   "id": "fc135f5d",
   "metadata": {},
   "outputs": [
    {
     "name": "stdout",
     "output_type": "stream",
     "text": [
      "[111, 5, 7, 2, 1]\n"
     ]
    }
   ],
   "source": [
    "numbers[0] = 111\n",
    "print (numbers)"
   ]
  },
  {
   "cell_type": "code",
   "execution_count": 4,
   "id": "4dc84b75",
   "metadata": {},
   "outputs": [
    {
     "name": "stdout",
     "output_type": "stream",
     "text": [
      "[111, 1, 7, 2, 1]\n"
     ]
    }
   ],
   "source": [
    "# Copiar el valor del quinto elemento al segundo\n",
    "numbers[1] = numbers [4]\n",
    "\n",
    "print(numbers)"
   ]
  },
  {
   "cell_type": "code",
   "execution_count": 5,
   "id": "1c2565aa",
   "metadata": {},
   "outputs": [
    {
     "name": "stdout",
     "output_type": "stream",
     "text": [
      "111\n"
     ]
    }
   ],
   "source": [
    "print(numbers [-5])"
   ]
  },
  {
   "cell_type": "markdown",
   "id": "e82ac364",
   "metadata": {},
   "source": [
    "## Eliminando Elementos de la Lista\n",
    "\n",
    "Cualquier elementod e la lista puede ser eliminado en cualquier momento - esto se hace con una instruccion llamada `del` (eliminar), Nota: Es una instruccion, no es una funcion\n",
    "\n",
    "Tienes que apuntar al elemento que quieres eliminar - desaparecera de la lista y la longitud de la lista se reducira en uno"
   ]
  },
  {
   "cell_type": "code",
   "execution_count": 6,
   "id": "de86fc7e",
   "metadata": {},
   "outputs": [
    {
     "name": "stdout",
     "output_type": "stream",
     "text": [
      "La lista actual es: [111, 1, 7, 2, 1]\n"
     ]
    }
   ],
   "source": [
    "print(f'La lista actual es: {numbers}')\n",
    "del numbers[2]"
   ]
  },
  {
   "cell_type": "code",
   "execution_count": 7,
   "id": "9bad8472",
   "metadata": {},
   "outputs": [
    {
     "name": "stdout",
     "output_type": "stream",
     "text": [
      "La lista actual es: [111, 1, 2, 1]\n",
      "El tamaño de ola lista  es 4\n"
     ]
    }
   ],
   "source": [
    "print(f'La lista actual es: {numbers}')\n",
    "print(f'El tamaño de ola lista  es {len(numbers)}')"
   ]
  },
  {
   "cell_type": "code",
   "execution_count": 8,
   "id": "286209d3",
   "metadata": {},
   "outputs": [],
   "source": [
    "lista_prueba = [1,2,4,6,2,11]\n",
    "# Remove -> Elimina o remueve la primera coincidencia de un valor que se le indica\n",
    "lista_prueba.remove(2)"
   ]
  },
  {
   "cell_type": "code",
   "execution_count": 9,
   "id": "d3ed7efd",
   "metadata": {},
   "outputs": [
    {
     "name": "stdout",
     "output_type": "stream",
     "text": [
      "La lista actual es: [1, 4, 6, 2, 11]\n",
      "El tamaño de ola lista  es 5\n"
     ]
    }
   ],
   "source": [
    "print(f'La lista actual es: {lista_prueba}')\n",
    "print(f'El tamaño de ola lista  es {len(lista_prueba)}')"
   ]
  },
  {
   "cell_type": "code",
   "execution_count": 10,
   "id": "e1a16ed5",
   "metadata": {},
   "outputs": [],
   "source": [
    "lista_prueba = [1,2,4,6,2,11]"
   ]
  },
  {
   "cell_type": "code",
   "execution_count": 15,
   "id": "4b0b52da",
   "metadata": {},
   "outputs": [],
   "source": [
    "def eliminar(valor):\n",
    "    for i, x in enumerate(lista_prueba):\n",
    "        # print(f'indice: {indice}, elemento: {elemento} ')\n",
    "        if x == valor:\n",
    "            del lista_prueba[i]"
   ]
  },
  {
   "cell_type": "code",
   "execution_count": 17,
   "id": "53a6e5db",
   "metadata": {},
   "outputs": [
    {
     "name": "stdout",
     "output_type": "stream",
     "text": [
      "Lista Actual [1, 4, 6, 2, 11]\n",
      "Lista despues de eliminar [1, 4, 6, 11]\n"
     ]
    }
   ],
   "source": [
    "print(f'Lista Actual {lista_prueba}')\n",
    "eliminar(2)\n",
    "print(f'Lista despues de eliminar {lista_prueba}')"
   ]
  },
  {
   "cell_type": "markdown",
   "id": "dfa7fc88",
   "metadata": {},
   "source": [
    "## Los indices negativos son legales\n",
    "\n",
    "`Un elemento con indice igual a -1 es el ultimo en la lista`"
   ]
  },
  {
   "cell_type": "code",
   "execution_count": 18,
   "id": "965121b9",
   "metadata": {},
   "outputs": [
    {
     "name": "stdout",
     "output_type": "stream",
     "text": [
      "El ultimo valor de la lista es: 1\n"
     ]
    }
   ],
   "source": [
    "numbers_2 = [111,7,2,1]\n",
    "print(f'El ultimo valor de la lista es: {numbers_2[-1]}')"
   ]
  },
  {
   "cell_type": "code",
   "execution_count": 19,
   "id": "97f17030",
   "metadata": {},
   "outputs": [
    {
     "name": "stdout",
     "output_type": "stream",
     "text": [
      "El ultimo valor de la lista es: 7\n"
     ]
    }
   ],
   "source": [
    "numbers_2 = [111,7,2,1]\n",
    "print(f'El ultimo valor de la lista es: {numbers_2[-3]}')"
   ]
  },
  {
   "cell_type": "markdown",
   "id": "f4a940c5",
   "metadata": {},
   "source": [
    "## Ejercicio de Listas \n"
   ]
  },
  {
   "cell_type": "code",
   "execution_count": 20,
   "id": "fd719723",
   "metadata": {},
   "outputs": [
    {
     "name": "stdout",
     "output_type": "stream",
     "text": [
      "[1, 2, 3, 4, 5]\n"
     ]
    }
   ],
   "source": [
    "hat_list = [1, 2, 3, 4, 5]  # Esta es una lista existente de números ocultos en el sombrero.\n",
    "\n",
    "# Paso 1: escribe una línea de código que solicite al usuario\n",
    "# reemplazar el número de en medio con un número entero ingresado por el usuario.\n",
    "\n",
    "# Paso 2: escribe aquí una línea de código que elimine el último elemento de la lista.\n",
    "\n",
    "# Paso 3: escribe aquí una línea de código que imprima la longitud de la lista existente.\n",
    "\n",
    "print(hat_list)"
   ]
  },
  {
   "cell_type": "markdown",
   "id": "992129b8",
   "metadata": {},
   "source": [
    "## Agregando elementos a una lista: append() e insert()\n",
    "\n",
    "Un nuevo elemento puede ser añadido al fina de la lista existente:\n",
    "\n",
    "'list.append(value)'\n",
    "\n",
    "El metodo `insert()` es un poco inteligente - puede agregar un nueov elemento en cualquier lugar de la lista, no solo al final\n",
    "\n",
    "`list.insert(location, value)`\n",
    "\n",
    "Toma dos argumentos:\n",
    "\n",
    "- el primero muestra la ubicación requerida del elemento a insertar; nota: todos los elementos existentes que ocupan ubicaciones a la derecha del nuevo elemento (incluido el que está en la posición indicada) se desplazan a la derecha, para hacer espacio para el nuevo elemento;\n",
    "-  el segundo es el elemento a insertar.\n"
   ]
  },
  {
   "cell_type": "code",
   "execution_count": 21,
   "id": "3373699d",
   "metadata": {},
   "outputs": [
    {
     "name": "stdout",
     "output_type": "stream",
     "text": [
      "La lista original es: [123, 8, 4, 1]\n",
      "El tamaño de la lista es: 4\n",
      "La lista despues de agregar al final es: [123, 8, 4, 1, 10]\n",
      "El tamaño de la lista es: 5\n"
     ]
    }
   ],
   "source": [
    "numbers_3 = [123, 8, 4, 1]\n",
    "print(f'La lista original es: {numbers_3}')\n",
    "print(f'El tamaño de la lista es: {len(numbers_3)}')\n",
    "\n",
    "# Agregar un valor al final de la lista con el metodo append\n",
    "numbers_3.append(10)\n",
    "print(f'La lista despues de agregar al final es: {numbers_3}')\n",
    "print(f'El tamaño de la lista es: {len(numbers_3)}')"
   ]
  },
  {
   "cell_type": "code",
   "execution_count": 24,
   "id": "3e140f0d",
   "metadata": {},
   "outputs": [
    {
     "name": "stdout",
     "output_type": "stream",
     "text": [
      "La lista actual es: [123, 8, 4, 1, 10]\n",
      "El tamaño de la lista es: 5\n",
      "La lista actual es: [222, 123, 8, 4, 1, 10]\n",
      "El tamaño de la lista es: 6\n"
     ]
    }
   ],
   "source": [
    "## Metodo insert\n",
    "print(f'La lista actual es: {numbers_3}')\n",
    "print(f'El tamaño de la lista es: {len(numbers_3)}')\n",
    "\n",
    "numbers_3.insert( 0, 222)\n",
    "print(f'La lista actual es: {numbers_3}')\n",
    "print(f'El tamaño de la lista es: {len(numbers_3)}')"
   ]
  },
  {
   "cell_type": "code",
   "execution_count": 29,
   "id": "0fa2d424",
   "metadata": {},
   "outputs": [],
   "source": [
    "def llenar_lista_append ( valor ):\n",
    "    my_list = [] #Se crea una lista vacia\n",
    "\n",
    "    for i in range( valor ):\n",
    "        my_list.append(i+1)\n",
    "    \n",
    "    return my_list"
   ]
  },
  {
   "cell_type": "code",
   "execution_count": 26,
   "id": "0ff0f770",
   "metadata": {},
   "outputs": [],
   "source": [
    "def imprimir_lista (lista):\n",
    "    print(f'La lista es: {lista}')"
   ]
  },
  {
   "cell_type": "code",
   "execution_count": null,
   "id": "e4af4e37",
   "metadata": {},
   "outputs": [
    {
     "name": "stdout",
     "output_type": "stream",
     "text": [
      "[1, 2, 3, 4, 5, 6, 7, 8, 9, 10]\n"
     ]
    }
   ],
   "source": [
    "lista =llenar_lista_append(10)\n",
    "imprimir_lista(lista)"
   ]
  },
  {
   "cell_type": "code",
   "execution_count": 30,
   "id": "555fd65d",
   "metadata": {},
   "outputs": [
    {
     "name": "stdout",
     "output_type": "stream",
     "text": [
      "[5, 4, 3, 2, 1]\n"
     ]
    }
   ],
   "source": [
    "my_list = []\n",
    "\n",
    "for i in range (5):\n",
    "    my_list.insert(0, i+1)\n",
    "\n",
    "print(my_list)"
   ]
  },
  {
   "cell_type": "code",
   "execution_count": 31,
   "id": "757a23b5",
   "metadata": {},
   "outputs": [
    {
     "name": "stdout",
     "output_type": "stream",
     "text": [
      "10\n",
      "1\n",
      "8\n",
      "3\n",
      "5\n"
     ]
    }
   ],
   "source": [
    "# Recorrer la lista con un ciclo\n",
    "mi_lista = [10, 1, 8, 3, 5]\n",
    "\n",
    "for i in mi_lista:\n",
    "    print(i)"
   ]
  },
  {
   "cell_type": "code",
   "execution_count": 33,
   "id": "cc62f468",
   "metadata": {},
   "outputs": [
    {
     "name": "stdout",
     "output_type": "stream",
     "text": [
      "La suma de los valores de la lista es 27\n"
     ]
    }
   ],
   "source": [
    "# Sumar los valores de la lista\n",
    "total = 0\n",
    "\n",
    "for i in mi_lista:\n",
    "    total+=i\n",
    "print(f'La suma de los valores de la lista es {total}')"
   ]
  },
  {
   "cell_type": "markdown",
   "id": "71b9370a",
   "metadata": {},
   "source": [
    "### Realizar un programa que permita almacenar varias calificaciones en una lista para despues poder sacar el promedio de ellas, utilizando una funcion\n",
    "\n",
    "---"
   ]
  },
  {
   "cell_type": "code",
   "execution_count": null,
   "id": "918e6cfb",
   "metadata": {},
   "outputs": [],
   "source": [
    "def guardar_calificaciones (numero):\n",
    "    lista_calificaciones = []\n",
    "    i = 1\n",
    "    while i <=numero:\n",
    "        calificacion = float(input(f'Solicita la calificacion {i}')) \n",
    "        lista_calificaciones.append(calificacion)\n",
    "        i+=1\n",
    "    \n",
    "    return lista_calificaciones"
   ]
  },
  {
   "cell_type": "code",
   "execution_count": 8,
   "id": "f9ca5d5e",
   "metadata": {},
   "outputs": [],
   "source": [
    "def guardar_calificaciones (numero):\n",
    "    lista_calificaciones = []\n",
    "    i = 1\n",
    "    \n",
    "    for i in range(numero):\n",
    "        calificacion = float(input(f'Solicita la calificacion {i}')) \n",
    "        lista_calificaciones.append(calificacion)\n",
    "    \n",
    "    return lista_calificaciones"
   ]
  },
  {
   "cell_type": "code",
   "execution_count": 7,
   "id": "c7966a6c",
   "metadata": {},
   "outputs": [
    {
     "name": "stdout",
     "output_type": "stream",
     "text": [
      "[7.8, 8.9, 5.4, 3.4, 10.0]\n"
     ]
    }
   ],
   "source": [
    "lista = guardar_calificaciones(5)\n",
    "print(lista)"
   ]
  }
 ],
 "metadata": {
  "kernelspec": {
   "display_name": "Python 3",
   "language": "python",
   "name": "python3"
  },
  "language_info": {
   "codemirror_mode": {
    "name": "ipython",
    "version": 3
   },
   "file_extension": ".py",
   "mimetype": "text/x-python",
   "name": "python",
   "nbconvert_exporter": "python",
   "pygments_lexer": "ipython3",
   "version": "3.13.3"
  }
 },
 "nbformat": 4,
 "nbformat_minor": 5
}
