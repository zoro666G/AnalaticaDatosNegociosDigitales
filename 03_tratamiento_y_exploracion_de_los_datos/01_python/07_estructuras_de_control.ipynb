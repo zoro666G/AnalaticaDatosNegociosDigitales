{
 "cells": [
  {
   "cell_type": "markdown",
   "id": "5def1d3a",
   "metadata": {},
   "source": [
    "## Estructuras de Control\n",
    "\n",
    "### Objetivo:\n",
    " - Conocer las estructuras de control, como funcionan y para que sirven\n",
    "\n",
    "---\n",
    "\n",
    "### Desarrollo"
   ]
  },
  {
   "cell_type": "markdown",
   "id": "be202eb7",
   "metadata": {},
   "source": [
    "Queremos darle a nuestro programa la capacidad de tomar decisiones. Esto puede hacerse utilizando una `sentencia if` utiliza una comparacion para obtener un boolean. Si el booleano es `True`, el bloque de la sentencia se ejecuta. Si el booleano es `False` nos saltamos a lo que sigue despues del bloque"
   ]
  },
  {
   "cell_type": "code",
   "execution_count": 1,
   "id": "35692e96",
   "metadata": {},
   "outputs": [],
   "source": [
    "var_1 = 4\n",
    "var_2 = 5"
   ]
  },
  {
   "cell_type": "code",
   "execution_count": 2,
   "id": "3b24e711",
   "metadata": {},
   "outputs": [
    {
     "name": "stdout",
     "output_type": "stream",
     "text": [
      "El bloque se ha ejecutado\n"
     ]
    }
   ],
   "source": [
    "if var_1 < var_2:\n",
    "    print(\"El bloque se ha ejecutado\")"
   ]
  },
  {
   "cell_type": "code",
   "execution_count": 3,
   "id": "7fe8351b",
   "metadata": {},
   "outputs": [],
   "source": [
    "var_1 = int(input(\"Introduce el valor\"))\n",
    "var_2 = int(input(\"Introduce el valor\"))\n",
    "\n",
    "if var_1 < var_2:\n",
    "    print(f\"El numero {var_1} es menor que el numero {var_2}\")"
   ]
  },
  {
   "cell_type": "code",
   "execution_count": 4,
   "id": "e4104bbb",
   "metadata": {},
   "outputs": [],
   "source": [
    "# Funcion que solicita un valor\n",
    "\n",
    "def solicitar ():\n",
    "    return int(input(\"Introduce el valor\"))"
   ]
  },
  {
   "cell_type": "code",
   "execution_count": 5,
   "id": "1ca821e9",
   "metadata": {},
   "outputs": [],
   "source": [
    "# Funcion que hace la comparacion\n",
    "\n",
    "def comparar (valor_uno, valor_dos):\n",
    "    if valor_uno < valor_dos:\n",
    "        print(f\"El numero {var_1} es menor que el numero {var_2}\")"
   ]
  },
  {
   "cell_type": "code",
   "execution_count": 6,
   "id": "1550351b",
   "metadata": {},
   "outputs": [],
   "source": [
    "# Ejecucion de las funciones\n",
    "\n",
    "var_1 = solicitar()\n",
    "var_2 = solicitar()\n",
    "\n",
    "comparar(var_1, var_2)"
   ]
  },
  {
   "cell_type": "markdown",
   "id": "00cf6a8d",
   "metadata": {},
   "source": [
    "1. **Desarrollar un programa que determine si un numero es positivo**\n",
    "2. **Desarrollar un programa que determine si puedes votar, la edad minima es 18**\n",
    "3. **Verificar si un numero es par**\n",
    "4. **Realizar la simulacion de un login en el cual se debe verificar si la contraseña es correcta**\n",
    "5. **Realizar un programa que determine si un alumno esta aprobado, la calificacion minima es 7**\n",
    "\n",
    "Todos los datos deben ser solicitados"
   ]
  },
  {
   "cell_type": "code",
   "execution_count": 7,
   "id": "0f6258ed",
   "metadata": {},
   "outputs": [
    {
     "name": "stdout",
     "output_type": "stream",
     "text": [
      "Tu numero es positivo\n"
     ]
    }
   ],
   "source": [
    "# 1. **Desarrollar un programa que determine si un numero es positivo**\n",
    "\n",
    "var_1 = int(input(\"Introduce un numero\"))\n",
    "var_2 = 0\n",
    "\n",
    "if var_1 > var_2:\n",
    "    print(f\"Tu numero es positivo\")\n"
   ]
  },
  {
   "cell_type": "code",
   "execution_count": 8,
   "id": "279b01ce",
   "metadata": {},
   "outputs": [],
   "source": [
    "# 2. **Desarrollar un programa que determine si puedes votar, la edad minima es 18**\n",
    "\n",
    "var_1 = int(input(\"Introduce tu edad\"))\n",
    "var_2 = 18\n",
    "\n",
    "if var_1 >= var_2:\n",
    "    print (f\"Tienes la edad para votar\")"
   ]
  },
  {
   "cell_type": "code",
   "execution_count": 9,
   "id": "f8b4b933",
   "metadata": {},
   "outputs": [
    {
     "name": "stdout",
     "output_type": "stream",
     "text": [
      "El numero 12 es par\n"
     ]
    }
   ],
   "source": [
    "# **Verificar si un numero es par**\n",
    "\n",
    "var_1 = int(input(\"Introduce un numero\"))\n",
    "\n",
    "if var_1 % 2 == 0:\n",
    "    print(f'El numero {var_1} es par')"
   ]
  },
  {
   "cell_type": "code",
   "execution_count": 10,
   "id": "fa381b6e",
   "metadata": {},
   "outputs": [
    {
     "name": "stdout",
     "output_type": "stream",
     "text": [
      "El numero 12 es par\n"
     ]
    }
   ],
   "source": [
    "# **Verificar si un numero es par**\n",
    "\n",
    "var_1 = int(input(\"Introduce un numero\"))\n",
    "\n",
    "if not var_1 % 2 != 0:\n",
    "    print(f'El numero {var_1} es par')"
   ]
  },
  {
   "cell_type": "code",
   "execution_count": 11,
   "id": "e87923f0",
   "metadata": {},
   "outputs": [
    {
     "name": "stdout",
     "output_type": "stream",
     "text": [
      "Saquese...\n"
     ]
    }
   ],
   "source": [
    "# **Realizar la simulacion de un login en el cual se debe verificar si la contraseña es correcta**\n",
    "\n",
    "var_1 = int(input(f\"Introduce tu contraseña\"))\n",
    "contrasena = 1234\n",
    "\n",
    "if var_1 == contrasena:\n",
    "    print (f\"La contraseña es correcta\")\n",
    "else:\n",
    "    print('Saquese...')"
   ]
  },
  {
   "cell_type": "code",
   "execution_count": null,
   "id": "2cad011d",
   "metadata": {},
   "outputs": [
    {
     "name": "stdout",
     "output_type": "stream",
     "text": [
      "Estas aprobado\n"
     ]
    }
   ],
   "source": [
    " # **Realizar un programa que determine si un alumno esta aprobado, la calificacion minima es 7**\n",
    "\n",
    "var_1 = int(input(\"Introduce tu calificacion\"))\n",
    "var_2 = 7\n",
    "\n",
    "if var_1 >= var_2:\n",
    "    print (f\"Estas aprobado\")"
   ]
  },
  {
   "cell_type": "markdown",
   "id": "94472822",
   "metadata": {},
   "source": [
    "## Operadores Logicos\n",
    "\n",
    "---\n",
    "\n",
    "### Operador or\n",
    "\n",
    "| A   | B   | A or B |\n",
    "|-----|-----|--------|\n",
    "| F   | F   | F      |\n",
    "| T   | F   | T      |\n",
    "| F   | T   | T      |\n",
    "| T   | T   | T      |\n",
    "\n",
    "### Operador and\n",
    "\n",
    "| A   | B   | A and B |\n",
    "|-----|-----|---------|\n",
    "| F   | F   | F       |\n",
    "| T   | F   | F       |\n",
    "| F   | T   | F       |\n",
    "| T   | T   | T       |\n",
    "\n",
    "### Operador not\n",
    "\n",
    "| A   | not A |\n",
    "|-----|--------|\n",
    "| F   | T      |\n",
    "| T   | F      |\n"
   ]
  },
  {
   "cell_type": "code",
   "execution_count": 14,
   "id": "affc42d1",
   "metadata": {},
   "outputs": [
    {
     "data": {
      "text/plain": [
       "True"
      ]
     },
     "execution_count": 14,
     "metadata": {},
     "output_type": "execute_result"
    }
   ],
   "source": [
    "resultado = 4 > 5 or 5==5\n",
    "resultado"
   ]
  },
  {
   "cell_type": "code",
   "execution_count": 15,
   "id": "52a1aa57",
   "metadata": {},
   "outputs": [
    {
     "data": {
      "text/plain": [
       "False"
      ]
     },
     "execution_count": 15,
     "metadata": {},
     "output_type": "execute_result"
    }
   ],
   "source": [
    "resultado = 4>5 and 5==5\n",
    "resultado"
   ]
  },
  {
   "cell_type": "code",
   "execution_count": 16,
   "id": "24cc8dd4",
   "metadata": {},
   "outputs": [
    {
     "data": {
      "text/plain": [
       "True"
      ]
     },
     "execution_count": 16,
     "metadata": {},
     "output_type": "execute_result"
    }
   ],
   "source": [
    "resultado = not(4>5 and 5==5)\n",
    "resultado"
   ]
  },
  {
   "cell_type": "code",
   "execution_count": 17,
   "id": "97d5c2df",
   "metadata": {},
   "outputs": [
    {
     "data": {
      "text/plain": [
       "True"
      ]
     },
     "execution_count": 17,
     "metadata": {},
     "output_type": "execute_result"
    }
   ],
   "source": [
    "resultado = not 4>5 or 5==5\n",
    "resultado"
   ]
  },
  {
   "cell_type": "code",
   "execution_count": 18,
   "id": "b33daf82",
   "metadata": {},
   "outputs": [
    {
     "data": {
      "text/plain": [
       "False"
      ]
     },
     "execution_count": 18,
     "metadata": {},
     "output_type": "execute_result"
    }
   ],
   "source": [
    "resultado = not 4<5 or 5!=5\n",
    "resultado"
   ]
  },
  {
   "cell_type": "code",
   "execution_count": 20,
   "id": "8574ef75",
   "metadata": {},
   "outputs": [
    {
     "data": {
      "text/plain": [
       "False"
      ]
     },
     "execution_count": 20,
     "metadata": {},
     "output_type": "execute_result"
    }
   ],
   "source": [
    "x = 5\n",
    "y = 10\n",
    "\n",
    "resultado = x>=5 and y <=x\n",
    "resultado"
   ]
  },
  {
   "cell_type": "markdown",
   "id": "106d3879",
   "metadata": {},
   "source": [
    "1. Verificar si un numero esta en el rango de 10 y 20\n",
    "2. Verificar si un usuario tiene acceso al charlys, si tiene minimo 18 años o tiene permiso especial\n",
    "3. Verificar si un numero no es igual a 0\n",
    "4. Verificar si un valor esta fuera del rango de 0 y 30"
   ]
  },
  {
   "cell_type": "code",
   "execution_count": null,
   "id": "a3dd9cc8",
   "metadata": {},
   "outputs": [
    {
     "name": "stdout",
     "output_type": "stream",
     "text": [
      "Tu numero esta en el rango\n"
     ]
    }
   ],
   "source": [
    "# 1. Verificar si un número está en el rango de 10 y 20\n"
   ]
  },
  {
   "cell_type": "markdown",
   "id": "369da5d2",
   "metadata": {},
   "source": [
    "Hay veces que queremos tener una accion `default`, que queremos que suceda en caso de que la comparacion sea `false`. Para esto podemos usar una sentencia `else`. Piensalo como preguntarse a uno mismo: \"Si meto mi mano a la bolsa y resulta que encuentro un billete de $50, me compro unos nachos; y si no hay nada vere una pelicula con mi novia llorando de tristeza por que no es el otro\" "
   ]
  },
  {
   "cell_type": "code",
   "execution_count": 39,
   "id": "bafc004f",
   "metadata": {},
   "outputs": [
    {
     "name": "stdout",
     "output_type": "stream",
     "text": [
      "La condicion no se ha cumplido,  y por lo tanto yo me imprimo\n"
     ]
    }
   ],
   "source": [
    "var_1 = 4\n",
    "var_2 = 5\n",
    "\n",
    "if var_1 > var_2:\n",
    "    print('La condicion se cumplio')\n",
    "else:\n",
    "    print('La condicion no se ha cumplido, ' \\\n",
    "    ' y por lo tanto yo me imprimo')"
   ]
  },
  {
   "cell_type": "code",
   "execution_count": null,
   "id": "dc521d60",
   "metadata": {},
   "outputs": [],
   "source": [
    "# Encontrar el numero mas grande de dos numeros\n",
    "\n",
    "number_1 = int(input('Introduce el numero 1'))\n",
    "number_2 = int(input('Introduce el numero 2'))\n",
    "\n",
    "# Elegir el numero mas grande\n",
    "if number_1 > number_2\n",
    "    print(f'El numero {number_1} es mayor al numero {number_2}')\n",
    "else:\n",
    "    print(f'El numero {number_2} es mayor al numero {number_1}')\n"
   ]
  },
  {
   "cell_type": "code",
   "execution_count": null,
   "id": "f51770a3",
   "metadata": {},
   "outputs": [],
   "source": [
    "number_1 = int(input('Introduce el numero 1'))\n",
    "number_2 = int(input('Introduce el numero 2'))\n",
    "\n",
    "if number_1 > number_2:\n",
    "        numero_mayor = number_1\n",
    "else:\n",
    "        numero_mayor = number_2\n",
    "\n",
    "print(f'EL numero mayor es: {numero_mayor}')"
   ]
  },
  {
   "cell_type": "markdown",
   "id": "073b9a05",
   "metadata": {},
   "source": [
    "Si queremos que haya mas de dos opciones, podemos agregar opciones utilizando la sentencia `elif`"
   ]
  },
  {
   "cell_type": "code",
   "execution_count": 41,
   "id": "1b38c525",
   "metadata": {},
   "outputs": [
    {
     "name": "stdout",
     "output_type": "stream",
     "text": [
      "El 14 es mayor que 12\n"
     ]
    }
   ],
   "source": [
    "var_1 = 12\n",
    "var_2 = 14\n",
    "\n",
    "if var_1 > var_2:\n",
    "    print(f'El {var_1} es mayor a {var_2}')\n",
    "elif var_2 > var_1:\n",
    "    print(f'El {var_2} es mayor que {var_1}')\n",
    "else:\n",
    "    print(f'El {var_1} es igual al {var_2}')"
   ]
  },
  {
   "cell_type": "markdown",
   "id": "65232791",
   "metadata": {},
   "source": [
    "#### 1. Comparaciones numéricas\n",
    "\n",
    "Vamos a imaginar que estamos analizando un conjunto de datos que contiene las ventas anuales en pesos de unos vendedores que trabajan en nuestra empresa. Obtenemos el total de ventas anuales en pesos y lo tenemos asignado a la variable ventas_anuales_totales. Escribe una estructura de control que nos diga de cuánto va a ser el bono de nuestro empleado.\n",
    "\n",
    "Si las ventas son mayores a `$`1,000,000 el bono será de 20% del sueldo; si son entre `$`700,000 y `$`1,000,000 el bono será de 15% del sueldo; entre `$`400,000 y `$`700,000 el bono será de 10% del sueldo; entre `$`100,00 y 400,000 el bono será de 5% del sueldo; y debajo de `$`100,000 el bono será del 1% del sueldo.\n",
    "\n",
    "Escribe tu estructura de control y, por ahora (más adelante tendremos más herramientas para hacer esto más interesante) imprime una string que diga de cuánto va a ser el bono.\n",
    "\n",
    "> Reto opcional: Agrega una variable sueldo que sea el sueldo de tu empleado y agrégale el porcentaje de bono a esa variable dependiendo de la condición que se cumpla. Después hasta el final imprime una string interpolada que diga algo como \"Felicidades, tu sueldo es x; tu bono es de x; y el total de sueldo con el bono incluido es de x\". ¡Para que esto funcione también debes de agregar una variable donde guardes la cantidad del bono!"
   ]
  },
  {
   "cell_type": "code",
   "execution_count": null,
   "id": "8989ff2f",
   "metadata": {},
   "outputs": [],
   "source": []
  }
 ],
 "metadata": {
  "kernelspec": {
   "display_name": "Python 3",
   "language": "python",
   "name": "python3"
  },
  "language_info": {
   "codemirror_mode": {
    "name": "ipython",
    "version": 3
   },
   "file_extension": ".py",
   "mimetype": "text/x-python",
   "name": "python",
   "nbconvert_exporter": "python",
   "pygments_lexer": "ipython3",
   "version": "3.13.3"
  }
 },
 "nbformat": 4,
 "nbformat_minor": 5
}
