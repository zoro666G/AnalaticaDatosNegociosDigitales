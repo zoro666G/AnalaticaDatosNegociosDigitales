{
 "cells": [
  {
   "cell_type": "markdown",
   "id": "c31f7362",
   "metadata": {},
   "source": [
    "## Interpolacion \n",
    "\n",
    "### Objetivos:\n",
    "    - Aprender a imprimir strings\n",
    "    - Aprender a interpolar variables dentro de strings\n",
    "\n",
    "### Desarrollo:\n",
    "\n",
    "---"
   ]
  },
  {
   "cell_type": "markdown",
   "id": "662bc5ad",
   "metadata": {},
   "source": [
    "Podemos hacer anotaciones en los outputs de nuestro codigo de esta manera:"
   ]
  },
  {
   "cell_type": "code",
   "execution_count": 6,
   "id": "d9ffb09b",
   "metadata": {},
   "outputs": [
    {
     "name": "stdout",
     "output_type": "stream",
     "text": [
      "Suma de var_1 y var_2\n",
      "38.7\n"
     ]
    }
   ],
   "source": [
    "var_1 = 15.3\n",
    "var_2 = 23.4\n",
    "\n",
    "print(\"Suma de var_1 y var_2\")\n",
    "print( var_1 + var_2 )"
   ]
  },
  {
   "cell_type": "markdown",
   "id": "56bbb3fe",
   "metadata": {},
   "source": [
    "Pero a veces resulta necesario o deseable  interpolar el valor de la variable  dentro de dicho  strin. Para esto utilizamos las llamadas `f-strings`. El formato de una `f-strings` es el siguiente:\n",
    "\n",
    "`f\"Esto es texto {esto_es_una_variable} esto es mas texto\"`\n",
    "\n",
    "Escribiendo una `f` antes de las comillas le indicamos a Python que lo que pongas dentro de las llaves (`{}`) sera codigo de Python. En ese caso , una variable asignada previamente.\n",
    "\n",
    "Ahora podemos hacer lo siguiente:"
   ]
  },
  {
   "cell_type": "code",
   "execution_count": 7,
   "id": "ef660f8f",
   "metadata": {},
   "outputs": [
    {
     "name": "stdout",
     "output_type": "stream",
     "text": [
      "La suma 67.3\n"
     ]
    }
   ],
   "source": [
    "var_3 = 43\n",
    "var_4 = 24.3\n",
    "\n",
    "suma = var_3 + var_4\n",
    "\n",
    "print(f'La suma { suma }')"
   ]
  },
  {
   "cell_type": "code",
   "execution_count": 8,
   "id": "6841c0c1",
   "metadata": {},
   "outputs": [
    {
     "name": "stdout",
     "output_type": "stream",
     "text": [
      "El nombre del programa es: Chachitos y la suma de los valores 5.0 + 6.0 es: 11.0\n"
     ]
    }
   ],
   "source": [
    "nombre_programa = input('Introduce el Nombre del Programa')\n",
    "var_3 = float(input('Introduce el primer valor'))\n",
    "var_4 = float(input('Introduce el segundo valor'))\n",
    "\n",
    "suma = var_3 + var_4\n",
    "\n",
    "print(f'El nombre del programa es: {nombre_programa} y la suma de los valores {var_3} + {var_4} es: {suma}')\n"
   ]
  },
  {
   "cell_type": "code",
   "execution_count": 45,
   "id": "188586e5",
   "metadata": {},
   "outputs": [],
   "source": [
    "def sumar(numero1, numero2):\n",
    "    return numero1 + numero2"
   ]
  },
  {
   "cell_type": "code",
   "execution_count": 28,
   "id": "2bd8b872",
   "metadata": {},
   "outputs": [],
   "source": [
    "def solicitarValor ():\n",
    "    return float(input('Introduce el valor'))"
   ]
  },
  {
   "cell_type": "code",
   "execution_count": 47,
   "id": "3467fe3d",
   "metadata": {},
   "outputs": [
    {
     "name": "stdout",
     "output_type": "stream",
     "text": [
      "90.0\n"
     ]
    }
   ],
   "source": [
    "var_3 = solicitarValor ()\n",
    "var_4 = solicitarValor ()\n",
    "\n",
    "suma = sumar(var_3, var_4)\n",
    "print(suma)"
   ]
  },
  {
   "cell_type": "code",
   "execution_count": 52,
   "id": "b7b11c87",
   "metadata": {},
   "outputs": [
    {
     "name": "stdout",
     "output_type": "stream",
     "text": [
      "25.0\n"
     ]
    }
   ],
   "source": [
    "def solicitarValor ():\n",
    "    return float(input('Introduce el valor'))\n",
    "\n",
    "var_3 = solicitarValor ()\n",
    "var_4 = solicitarValor ()\n",
    "\n",
    "suma = sumar(var_3, var_4)\n",
    "print(suma)"
   ]
  }
 ],
 "metadata": {
  "kernelspec": {
   "display_name": "Python 3",
   "language": "python",
   "name": "python3"
  },
  "language_info": {
   "codemirror_mode": {
    "name": "ipython",
    "version": 3
   },
   "file_extension": ".py",
   "mimetype": "text/x-python",
   "name": "python",
   "nbconvert_exporter": "python",
   "pygments_lexer": "ipython3",
   "version": "3.13.3"
  }
 },
 "nbformat": 4,
 "nbformat_minor": 5
}
