{
 "cells": [
  {
   "cell_type": "markdown",
   "id": "f4954bd2",
   "metadata": {},
   "source": [
    "## Bucles o Loop o Ciclos"
   ]
  },
  {
   "cell_type": "markdown",
   "id": "bdd18b22",
   "metadata": {},
   "source": [
    "### Bucles con while"
   ]
  },
  {
   "cell_type": "code",
   "execution_count": null,
   "id": "2215ff45",
   "metadata": {},
   "outputs": [
    {
     "ename": "KeyboardInterrupt",
     "evalue": "",
     "output_type": "error",
     "traceback": [
      "\u001b[31m---------------------------------------------------------------------------\u001b[39m",
      "\u001b[31mKeyboardInterrupt\u001b[39m                         Traceback (most recent call last)",
      "\u001b[36mCell\u001b[39m\u001b[36m \u001b[39m\u001b[32mIn[6]\u001b[39m\u001b[32m, line 1\u001b[39m\n\u001b[32m----> \u001b[39m\u001b[32m1\u001b[39m \u001b[38;5;28;01mwhile\u001b[39;00m(\u001b[38;5;28;01mTrue\u001b[39;00m):\n\u001b[32m      2\u001b[39m     \u001b[38;5;28;01mpass\u001b[39;00m\n\u001b[32m      3\u001b[39m \u001b[38;5;28mprint\u001b[39m(\u001b[33m\"\u001b[39m\u001b[33mEstoy dentro de bucle y no puedo salir\u001b[39m\u001b[33m\"\u001b[39m)\n",
      "\u001b[31mKeyboardInterrupt\u001b[39m: "
     ]
    }
   ],
   "source": [
    "while(True):\n",
    "    print(\"Estoy dentro de bucle y no puedo salir\")"
   ]
  },
  {
   "cell_type": "code",
   "execution_count": null,
   "id": "b9b8dced",
   "metadata": {},
   "outputs": [],
   "source": [
    "while(True):\n",
    "    pass\n",
    "print(\"Estoy dentro de bucle y no puedo salir\")"
   ]
  },
  {
   "cell_type": "code",
   "execution_count": null,
   "id": "aebc2681",
   "metadata": {},
   "outputs": [
    {
     "name": "stdout",
     "output_type": "stream",
     "text": [
      "El numero mas grande es: 999999999\n"
     ]
    }
   ],
   "source": [
    "bignum = -999999999\n",
    "\n",
    "#ingresa el primer valor\n",
    "number = int(input('Introduce un numero o escribe -1 para terminar'))\n",
    "\n",
    "while number!= -1:\n",
    "    # Es el numero mas grande que el valor numero_grande?\n",
    "    if number > bignum:\n",
    "        bignum = number\n",
    "    number = int(input('Introduce un numero o escribe -1 para terminar'))\n",
    "\n",
    "print(f'el numero mas grande es {bignum}')"
   ]
  },
  {
   "cell_type": "code",
   "execution_count": 15,
   "id": "d557596a",
   "metadata": {},
   "outputs": [
    {
     "name": "stdout",
     "output_type": "stream",
     "text": [
      "Soy el numero 1\n",
      "Soy el numero 2\n",
      "Soy el numero 3\n",
      "Soy el numero 4\n",
      "Soy el numero 5\n",
      "Soy el numero 6\n",
      "Soy el numero 7\n",
      "Soy el numero 8\n",
      "Soy el numero 9\n",
      "Soy el numero 10\n",
      "Fin del programa\n"
     ]
    }
   ],
   "source": [
    "numero = int(input('Introdice un numero'))\n",
    "\n",
    "i = 1\n",
    "\n",
    "while i <= numero:\n",
    "    print(f'Soy el numero {i}')\n",
    "    i = i + 1\n",
    "print('Fin del programa')"
   ]
  },
  {
   "cell_type": "markdown",
   "id": "b1fbad3f",
   "metadata": {},
   "source": [
    "**Realizar un programa que calcule el promedio de calificaciones x**\n",
    "\n"
   ]
  },
  {
   "cell_type": "code",
   "execution_count": 10,
   "id": "9f784cce",
   "metadata": {},
   "outputs": [
    {
     "name": "stdout",
     "output_type": "stream",
     "text": [
      "El numero de aprobados es: 1\n",
      " El numero de reprobados es: 0\n",
      "El numero de aprobados es: 2\n",
      " El numero de reprobados es: 0\n",
      "El numero de aprobados es: 3\n",
      " El numero de reprobados es: 0\n",
      "El numero de aprobados es: 4\n",
      " El numero de reprobados es: 0\n",
      "El numero de aprobados es: 5\n",
      " El numero de reprobados es: 0\n",
      "El numero de aprobados es: 6\n",
      " El numero de reprobados es: 0\n",
      "El numero de aprobados es: 7\n",
      " El numero de reprobados es: 0\n",
      "El numero de aprobados es: 8\n",
      " El numero de reprobados es: 0\n",
      "El numero de aprobados es: 8\n",
      " El numero de reprobados es: 1\n",
      "El numero de aprobados es: 8\n",
      " El numero de reprobados es: 2\n",
      "El numero de aprobados es: 8\n",
      " El numero de reprobados es: 3\n",
      "El numero de aprobados es: 8\n",
      " El numero de reprobados es: 4\n",
      "El numero de aprobados es: 8\n",
      " El numero de reprobados es: 5\n",
      "El numero de aprobados es: 8\n",
      " El numero de reprobados es: 6\n"
     ]
    }
   ],
   "source": [
    "cal = int(input('Introduce la calificacion'))\n",
    "califAprob = 0\n",
    "califRepro = 0\n",
    "\n",
    "while cal!=-1:\n",
    "    if cal>=7.0 and cal<=10.0:\n",
    "        califAprob = califAprob + 1\n",
    "    elif cal<7.0 and cal>=0:\n",
    "        califRepro+=1\n",
    "\n",
    "    cal = int(input('Introduce la calificacion'))\n",
    "\n",
    "    print(f'El numero de aprobados es: {califAprob}\\n El numero de reprobados es: {califRepro}')\n",
    "    "
   ]
  },
  {
   "cell_type": "markdown",
   "id": "62b02949",
   "metadata": {},
   "source": [
    "## Bucle con for\n",
    "\n",
    "Otro tipo de bucle disponible en `python` proviene de la observacion de que a veces es mas importante contar los 'giros o vueltas' del bucle que verificar las condiciones.\n",
    "\n",
    "```python\n",
    "for i in range (100):\n",
    "    # do_something()\n",
    "    pass\n",
    "```"
   ]
  },
  {
   "cell_type": "code",
   "execution_count": 12,
   "id": "417f49cf",
   "metadata": {},
   "outputs": [
    {
     "name": "stdout",
     "output_type": "stream",
     "text": [
      "el valor de i es: 1\n",
      "el valor de i es: 2\n",
      "el valor de i es: 3\n",
      "el valor de i es: 4\n",
      "el valor de i es: 5\n",
      "el valor de i es: 6\n",
      "el valor de i es: 7\n",
      "el valor de i es: 8\n",
      "el valor de i es: 9\n",
      "el valor de i es: 10\n",
      "el valor de i es: 11\n",
      "el valor de i es: 12\n",
      "el valor de i es: 13\n",
      "el valor de i es: 14\n",
      "el valor de i es: 15\n",
      "el valor de i es: 16\n",
      "el valor de i es: 17\n",
      "el valor de i es: 18\n",
      "el valor de i es: 19\n",
      "el valor de i es: 20\n"
     ]
    }
   ],
   "source": [
    "for i in range (20):\n",
    "    print(f'el valor de i es: {i+1}')"
   ]
  },
  {
   "cell_type": "code",
   "execution_count": null,
   "id": "11ace097",
   "metadata": {},
   "outputs": [],
   "source": [
    "lista = [2,3,4,9,6,7,19]\n",
    "\n",
    "for li in lista:\n",
    "    print(li)"
   ]
  },
  {
   "cell_type": "code",
   "execution_count": 13,
   "id": "41fc39c6",
   "metadata": {},
   "outputs": [
    {
     "name": "stdout",
     "output_type": "stream",
     "text": [
      "2\n",
      "3\n",
      "4\n",
      "9\n",
      "6\n",
      "7\n",
      "10\n",
      "[2, 3, 5, 6]\n"
     ]
    }
   ],
   "source": [
    "lista = [2,3,4,9,6,7,10,[2,3,5,6]]\n",
    "\n",
    "for li in lista:\n",
    "    print(li)"
   ]
  },
  {
   "cell_type": "markdown",
   "id": "bd33ffb6",
   "metadata": {},
   "source": [
    "Nota:\n",
    "\n",
    "el bucle se ha ejecutado 10 veces (es el argumento de la funcion range ()) El valor de la ultima variable de control es 9 (no 10, ya que comienza en 0, no desde 1)"
   ]
  },
  {
   "cell_type": "code",
   "execution_count": 14,
   "id": "85736ce0",
   "metadata": {},
   "outputs": [
    {
     "name": "stdout",
     "output_type": "stream",
     "text": [
      "El valor de i es 2\n",
      "El valor de i es 3\n",
      "El valor de i es 4\n",
      "El valor de i es 5\n",
      "El valor de i es 6\n",
      "El valor de i es 7\n"
     ]
    }
   ],
   "source": [
    "for i in range(2, 8):\n",
    "    print(f'El valor de i es {i}')"
   ]
  },
  {
   "cell_type": "code",
   "execution_count": 15,
   "id": "df31872b",
   "metadata": {},
   "outputs": [
    {
     "name": "stdout",
     "output_type": "stream",
     "text": [
      "El valor de i es 2\n",
      "El valor de i es 3\n",
      "El valor de i es 4\n",
      "El valor de i es 5\n",
      "El valor de i es 6\n",
      "El valor de i es 7\n"
     ]
    }
   ],
   "source": [
    "i = 2\n",
    "while i<8:\n",
    "    print(f'El valor de i es {i}')\n",
    "    i+=1"
   ]
  },
  {
   "cell_type": "markdown",
   "id": "4f228f2c",
   "metadata": {},
   "source": [
    "La funcion range tambien puede aceptar 3 argumentos"
   ]
  },
  {
   "cell_type": "code",
   "execution_count": 20,
   "id": "38ff32b8",
   "metadata": {},
   "outputs": [
    {
     "name": "stdout",
     "output_type": "stream",
     "text": [
      "El valor de i es 2\n",
      "El valor de i es 5\n"
     ]
    }
   ],
   "source": [
    "for i in range(2, 8, 3):\n",
    "    print(f'El valor de i es {i}')"
   ]
  },
  {
   "cell_type": "code",
   "execution_count": 18,
   "id": "71d54a6e",
   "metadata": {},
   "outputs": [
    {
     "name": "stdout",
     "output_type": "stream",
     "text": [
      "El valor de i es 2\n",
      "El valor de i es 5\n"
     ]
    }
   ],
   "source": [
    "i = 2\n",
    "while i<8:\n",
    "    print(f'El valor de i es {i}')\n",
    "    i+=3"
   ]
  },
  {
   "cell_type": "markdown",
   "id": "93e6db1c",
   "metadata": {},
   "source": [
    "Las sentencias break y continue\n",
    "\n",
    "`break` - Sale del bucle inmediatamente, e incondicionalmente termina la operacion del bucle, el programa comienza a ejecutar la instruccion mas cercana despues del cuerpo del bucle\n",
    "\n",
    "`continue` - Se comporta como si el programa hubiera llegado repentinamente al final del cuerpo; el siguiente turno se inicia y la expresion de condicion se prueba de inmediato"
   ]
  },
  {
   "cell_type": "code",
   "execution_count": 21,
   "id": "1cef9edb",
   "metadata": {},
   "outputs": [
    {
     "name": "stdout",
     "output_type": "stream",
     "text": [
      "La instruccion break\n",
      "Dentro del bucle\n",
      "Dentro del bucle\n",
      "Fuera del bucle\n"
     ]
    }
   ],
   "source": [
    "# break - ejemplo\n",
    "\n",
    "print(\"La instruccion break\")\n",
    "for i in range(1, 6):\n",
    "    if i == 3:\n",
    "        break\n",
    "    print('Dentro del bucle')\n",
    "print('Fuera del bucle')"
   ]
  },
  {
   "cell_type": "code",
   "execution_count": 24,
   "id": "d596727e",
   "metadata": {},
   "outputs": [
    {
     "name": "stdout",
     "output_type": "stream",
     "text": [
      "\n",
      "La instruccion continue:\n",
      "Dentro del bucle. 1\n",
      "Dentro del bucle. 2\n",
      "Dentro del bucle. 4\n",
      "Dentro del bucle. 5\n",
      "Fuera del Bucle\n"
     ]
    }
   ],
   "source": [
    "# continue\n",
    "\n",
    "print('\\nLa instruccion continue:')\n",
    "for i in range(1,6):\n",
    "    if i == 3:\n",
    "        continue\n",
    "    print(f'Dentro del bucle. {i}')\n",
    "print('Fuera del Bucle')"
   ]
  }
 ],
 "metadata": {
  "kernelspec": {
   "display_name": "Python 3",
   "language": "python",
   "name": "python3"
  },
  "language_info": {
   "codemirror_mode": {
    "name": "ipython",
    "version": 3
   },
   "file_extension": ".py",
   "mimetype": "text/x-python",
   "name": "python",
   "nbconvert_exporter": "python",
   "pygments_lexer": "ipython3",
   "version": "3.13.3"
  }
 },
 "nbformat": 4,
 "nbformat_minor": 5
}
