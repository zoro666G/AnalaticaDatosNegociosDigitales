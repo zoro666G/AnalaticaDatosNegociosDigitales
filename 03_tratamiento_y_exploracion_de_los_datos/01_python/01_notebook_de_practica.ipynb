{
 "cells": [
  {
   "cell_type": "markdown",
   "id": "4000fd19",
   "metadata": {},
   "source": [
    "# Ejemplo  1: Esto es un notebook de practica\n",
    "\n",
    "```\n",
    "\n"
   ]
  },
  {
   "cell_type": "markdown",
   "id": "f2a3c0d3",
   "metadata": {},
   "source": [
    "# Ejemplo 1: Esto es un notebook de Practica.\n",
    "\n",
    "---\n",
    "\n",
    "### 1. Objetivos:\n",
    "    - Repasar rápidamente como funciona un jupyter notebook\n",
    "\n",
    "### 2. Requisitos:\n",
    "    - Jupyter notebook instalado"
   ]
  },
  {
   "cell_type": "markdown",
   "id": "b42932d2",
   "metadata": {},
   "source": []
  },
  {
   "cell_type": "markdown",
   "id": "62322273",
   "metadata": {},
   "source": [
    "Esto es una celda `Markdown\n",
    "`"
   ]
  },
  {
   "cell_type": "code",
   "execution_count": null,
   "id": "ee068f82",
   "metadata": {},
   "outputs": [],
   "source": [
    "# Esto es una celda de codigo\n",
    "#y yo soy un comentario ..."
   ]
  },
  {
   "cell_type": "markdown",
   "id": "732a353d",
   "metadata": {},
   "source": [
    "Escribamos algo de codigo para recordar: "
   ]
  },
  {
   "cell_type": "code",
   "execution_count": 2,
   "id": "fd85cb32",
   "metadata": {},
   "outputs": [
    {
     "data": {
      "text/plain": [
       "9"
      ]
     },
     "execution_count": 2,
     "metadata": {},
     "output_type": "execute_result"
    }
   ],
   "source": [
    "var_1 = 4\n",
    "var_2 = 5\n",
    "\n",
    "var_1 + var_2"
   ]
  },
  {
   "cell_type": "code",
   "execution_count": 3,
   "id": "a86ef364",
   "metadata": {},
   "outputs": [
    {
     "name": "stdout",
     "output_type": "stream",
     "text": [
      "4 5\n"
     ]
    }
   ],
   "source": [
    "print(var_1, var_2)"
   ]
  },
  {
   "cell_type": "code",
   "execution_count": 4,
   "id": "2b977bfd",
   "metadata": {},
   "outputs": [
    {
     "name": "stdout",
     "output_type": "stream",
     "text": [
      "4,5\n"
     ]
    }
   ],
   "source": [
    "print(str(var_1) + ',' + str(var_2))"
   ]
  },
  {
   "cell_type": "code",
   "execution_count": 6,
   "id": "794d7eb0",
   "metadata": {},
   "outputs": [
    {
     "name": "stdout",
     "output_type": "stream",
     "text": [
      "9\n"
     ]
    }
   ],
   "source": [
    "print(var_1 + var_2)"
   ]
  },
  {
   "cell_type": "code",
   "execution_count": 7,
   "id": "df3b1d60",
   "metadata": {},
   "outputs": [
    {
     "data": {
      "text/plain": [
       "15"
      ]
     },
     "execution_count": 7,
     "metadata": {},
     "output_type": "execute_result"
    }
   ],
   "source": [
    "var_1 = 10\n",
    "var_1 + var_2"
   ]
  }
 ],
 "metadata": {
  "kernelspec": {
   "display_name": "Python 3",
   "language": "python",
   "name": "python3"
  },
  "language_info": {
   "codemirror_mode": {
    "name": "ipython",
    "version": 3
   },
   "file_extension": ".py",
   "mimetype": "text/x-python",
   "name": "python",
   "nbconvert_exporter": "python",
   "pygments_lexer": "ipython3",
   "version": "3.13.3"
  }
 },
 "nbformat": 4,
 "nbformat_minor": 5
}
