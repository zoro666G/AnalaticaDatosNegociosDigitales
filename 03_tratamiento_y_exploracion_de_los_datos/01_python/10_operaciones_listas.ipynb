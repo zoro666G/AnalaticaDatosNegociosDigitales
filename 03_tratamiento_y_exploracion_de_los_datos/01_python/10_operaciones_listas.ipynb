{
 "cells": [
  {
   "cell_type": "code",
   "execution_count": 1,
   "id": "dd0145ae",
   "metadata": {},
   "outputs": [
    {
     "data": {
      "text/plain": [
       "[10, 4, 2]"
      ]
     },
     "execution_count": 1,
     "metadata": {},
     "output_type": "execute_result"
    }
   ],
   "source": [
    "#Dada la lista [10,8,6,4,2] eliminar los numeros 8 y 6\n",
    "\n",
    "lista_3 = [10,8,6,4,2]\n",
    "\n",
    "del lista_3[1:3]\n",
    "\n",
    "lista_3"
   ]
  },
  {
   "cell_type": "markdown",
   "id": "d8b11cff",
   "metadata": {},
   "source": [
    "### `pop` remueve el ultimo elemento de la lista si se llama sin argumentos"
   ]
  },
  {
   "cell_type": "code",
   "execution_count": 2,
   "id": "58b423a1",
   "metadata": {},
   "outputs": [
    {
     "data": {
      "text/plain": [
       "[10, 4]"
      ]
     },
     "execution_count": 2,
     "metadata": {},
     "output_type": "execute_result"
    }
   ],
   "source": [
    "lista_3.pop()\n",
    "lista_3"
   ]
  },
  {
   "cell_type": "code",
   "execution_count": 13,
   "id": "9c1b4750",
   "metadata": {},
   "outputs": [],
   "source": [
    "lista_3 = []\n",
    "\n",
    "lista_3.append(7)\n",
    "lista_3.append(5)\n",
    "lista_3.append(9)\n",
    "lista_3.append(11)\n",
    "lista_3.append(5)"
   ]
  },
  {
   "cell_type": "code",
   "execution_count": 14,
   "id": "e22a08e8",
   "metadata": {},
   "outputs": [
    {
     "data": {
      "text/plain": [
       "[7, 5, 9, 11, 5]"
      ]
     },
     "execution_count": 14,
     "metadata": {},
     "output_type": "execute_result"
    }
   ],
   "source": [
    "lista_3"
   ]
  },
  {
   "cell_type": "code",
   "execution_count": 15,
   "id": "07c4a2eb",
   "metadata": {},
   "outputs": [
    {
     "data": {
      "text/plain": [
       "[7, 9, 11, 5]"
      ]
     },
     "execution_count": 15,
     "metadata": {},
     "output_type": "execute_result"
    }
   ],
   "source": [
    "lista_3.pop(1)\n",
    "lista_3"
   ]
  },
  {
   "cell_type": "code",
   "execution_count": 17,
   "id": "f2ba0824",
   "metadata": {},
   "outputs": [
    {
     "name": "stdout",
     "output_type": "stream",
     "text": [
      "['a', 12, True]\n",
      "<class 'list'>\n"
     ]
    }
   ],
   "source": [
    "list_example = [\"a\", 12, True]\n",
    "print(list_example)\n",
    "print(type(list_example))"
   ]
  },
  {
   "cell_type": "code",
   "execution_count": 18,
   "id": "094f8cf9",
   "metadata": {},
   "outputs": [
    {
     "name": "stdout",
     "output_type": "stream",
     "text": [
      "[['hallway', 100], ['kitchen', 85]]\n",
      "<class 'list'>\n"
     ]
    }
   ],
   "source": [
    "# Lista de Listas\n",
    "\n",
    "list_house = [['hallway', 100], ['kitchen', 85]]\n",
    "print(list_house)\n",
    "print(type(list_house))"
   ]
  },
  {
   "cell_type": "code",
   "execution_count": 20,
   "id": "53ba45fc",
   "metadata": {},
   "outputs": [
    {
     "data": {
      "text/plain": [
       "100"
      ]
     },
     "execution_count": 20,
     "metadata": {},
     "output_type": "execute_result"
    }
   ],
   "source": [
    "#Tiene acceso a la lista en la posicion 0 y su elemento en la posicion 1\n",
    "list_house[0][1]"
   ]
  },
  {
   "cell_type": "code",
   "execution_count": 38,
   "id": "7d3ab7b6",
   "metadata": {},
   "outputs": [
    {
     "name": "stdout",
     "output_type": "stream",
     "text": [
      "['heidy', 22, 'ines', 54, 'henry', 33, 'oscar', 38]\n"
     ]
    }
   ],
   "source": [
    "list_family = ['heidy', 22, 'ines', 54, 'henry', 33, 'oscar', 38]\n",
    "print(list_family)"
   ]
  },
  {
   "cell_type": "code",
   "execution_count": 23,
   "id": "2a174322",
   "metadata": {},
   "outputs": [
    {
     "name": "stdout",
     "output_type": "stream",
     "text": [
      "ines\n",
      "ines\n"
     ]
    }
   ],
   "source": [
    "# Indexacion\n",
    "print(list_family[2])\n",
    "\n",
    "# Indexacion negativa\n",
    "print(list_family[-6])"
   ]
  },
  {
   "cell_type": "code",
   "execution_count": 25,
   "id": "1a2dd953",
   "metadata": {},
   "outputs": [
    {
     "name": "stdout",
     "output_type": "stream",
     "text": [
      "[54, 'henry']\n",
      "['heidy', 22, 'ines', 54, 'henry']\n",
      "[33, 'oscar', 38]\n"
     ]
    }
   ],
   "source": [
    "# slicing [ start: end]\n",
    "#            inclusive: exclusive\n",
    "\n",
    "print(list_family[3:5]) #no toma el ultimo digito\n",
    "print(list_family[:5]) # Desde el inicio hasta la posicion 4\n",
    "print(list_family[5:]) # Desde la posicion 5 hasta el final"
   ]
  },
  {
   "cell_type": "markdown",
   "id": "57ca348a",
   "metadata": {},
   "source": [
    "## Manipulando Listas"
   ]
  },
  {
   "cell_type": "code",
   "execution_count": 28,
   "id": "d0ad4bb9",
   "metadata": {},
   "outputs": [
    {
     "name": "stdout",
     "output_type": "stream",
     "text": [
      "['heidy', 22, 'ines', 54, 'henry', 33, 'oscar', 37]\n"
     ]
    }
   ],
   "source": [
    "print(list_family)"
   ]
  },
  {
   "cell_type": "code",
   "execution_count": 33,
   "id": "5c81c03e",
   "metadata": {},
   "outputs": [
    {
     "name": "stdout",
     "output_type": "stream",
     "text": [
      "['heidy', 22, 'ines', 54, 'henry', 33, 'oscar', 37]\n",
      "['Mayumi', 24, 'ines', 54, 'henry', 33, 'oscar', 37]\n"
     ]
    }
   ],
   "source": [
    "list_family[-1] = 37\n",
    "print(list_family)\n",
    "\n",
    "list_family[:2] = [\"Mayumi\", 24]\n",
    "print(list_family)"
   ]
  },
  {
   "cell_type": "code",
   "execution_count": 40,
   "id": "5dec8289",
   "metadata": {},
   "outputs": [
    {
     "name": "stdout",
     "output_type": "stream",
     "text": [
      "['heidy', 22, 'ines', 54, 'henry', 33, 'oscar', 38, 'Achuchena', 12]\n",
      "['heidy', 22, 'ines', 'henry', 33, 'oscar', 38, 'Achuchena', 12]\n"
     ]
    }
   ],
   "source": [
    "# Agregar y remover elementos de la lista\n",
    "\n",
    "# Agregar\n",
    "familia_Ext = list_family + ['Achuchena', 12]\n",
    "print(familia_Ext)\n",
    "\n",
    "# Eliminar\n",
    "del (familia_Ext[3])\n",
    "#familia_Ext.pop(3)\n",
    "#familia_Ext.remove(54)\n",
    "print(familia_Ext)\n"
   ]
  },
  {
   "cell_type": "code",
   "execution_count": null,
   "id": "b0dba2ce",
   "metadata": {},
   "outputs": [
    {
     "name": "stdout",
     "output_type": "stream",
     "text": [
      "['hallway', 11.25, 'kitchen', 18.0, 'chill zone', 20.0, 'bedroom', 10.75, 'bathroom', 10.5, 'poolhouse', 24.5, 'garage', 15.45]\n",
      "['poolhouse', 24.5]\n",
      "['poolhouse', 24.5]\n",
      "['hallway', 11.25, 'kitchen', 18.0, 'chill zone', 20.0, 'bedroom', 10.75, 'bathroom', 10.5, 'garage', 15.45]\n",
      "['hallway', 11.25, 'kitchen', 18.0, 'chill zone', 20.0, 'bedroom', 10.75, 'bathroom', 10.5]\n"
     ]
    }
   ],
   "source": [
    "# Ejercicio - Eliminar 'poolhouse' y 24.5\n",
    "\n",
    "areas = [\"hallway\", 11.25, \"kitchen\", 18.0,\n",
    "         \"chill zone\", 20.0, \"bedroom\", 10.75,\n",
    "         \"bathroom\", 10.50, \"poolhouse\", 24.5,\n",
    "         \"garage\", 15.45]\n",
    "\n",
    "print(areas)\n",
    "print(areas[-4:-2])\n",
    "print(areas[10:12])\n",
    "del(areas[-4:-2])\n",
    "print(areas)\n",
    "del(areas[10:12])\n",
    "print(areas)"
   ]
  },
  {
   "cell_type": "markdown",
   "id": "c4ce7f8b",
   "metadata": {},
   "source": [
    "## Funciones y Paquetes"
   ]
  },
  {
   "cell_type": "markdown",
   "id": "2456ef07",
   "metadata": {},
   "source": [
    "## **Funcion**\n",
    "\n",
    "Es una pieza de codigo reutilizable, destinada a resolver una tarea en particular"
   ]
  },
  {
   "cell_type": "code",
   "execution_count": 58,
   "id": "92ed76aa",
   "metadata": {},
   "outputs": [
    {
     "name": "stdout",
     "output_type": "stream",
     "text": [
      "[22, 54, 33, 38, 36]\n",
      "El tamaño de la lista es 5\n",
      "El valor maximo de la lista es 54\n"
     ]
    }
   ],
   "source": [
    "list_fam = [22,54,33,38,36]\n",
    "print(list_fam)\n",
    "print(f\"El tamaño de la lista es {len(list_fam)}\")\n",
    "print(f\"El valor maximo de la lista es {max(list_fam)}\")\n"
   ]
  },
  {
   "cell_type": "code",
   "execution_count": 60,
   "id": "4694c42f",
   "metadata": {},
   "outputs": [
    {
     "data": {
      "text/plain": [
       "1.7"
      ]
     },
     "execution_count": 60,
     "metadata": {},
     "output_type": "execute_result"
    }
   ],
   "source": [
    "round(1.6689,2)"
   ]
  },
  {
   "cell_type": "code",
   "execution_count": 61,
   "id": "399309e3",
   "metadata": {},
   "outputs": [
    {
     "name": "stdout",
     "output_type": "stream",
     "text": [
      "Help on built-in function round in module builtins:\n",
      "\n",
      "round(number, ndigits=None)\n",
      "    Round a number to a given precision in decimal digits.\n",
      "\n",
      "    The return value is an integer if ndigits is omitted or None.  Otherwise\n",
      "    the return value has the same type as the number.  ndigits may be negative.\n",
      "\n"
     ]
    }
   ],
   "source": [
    "help(round)"
   ]
  },
  {
   "cell_type": "code",
   "execution_count": 63,
   "id": "be7ccb6c",
   "metadata": {},
   "outputs": [
    {
     "name": "stdout",
     "output_type": "stream",
     "text": [
      "[18.0, 20.0, 51.25]\n",
      "[18.0, 20.0, 51.25]\n",
      "[51.25, 20.0, 18.0]\n"
     ]
    }
   ],
   "source": [
    "first = [51.25, 18.0, 20.0]\n",
    "full_sorted = sorted(first)\n",
    "full_sorted_asc = sorted(first, reverse=False) #Ascendente\n",
    "full_sorted_desc = sorted(first, reverse=True) #Descendente \n",
    "\n",
    "print(full_sorted)\n",
    "print(full_sorted_asc)\n",
    "print(full_sorted_desc)"
   ]
  },
  {
   "cell_type": "markdown",
   "id": "278cd940",
   "metadata": {},
   "source": [
    "## **Metodos**\n",
    "\n",
    "En python todo es objeto. Y cada objeto tiene metodos especificos asociados\n",
    "    \n",
    "- Objetos con diferentes tipos pueden tener metodos con el mismo nombre"
   ]
  },
  {
   "cell_type": "code",
   "execution_count": 66,
   "id": "cb95848c",
   "metadata": {},
   "outputs": [
    {
     "name": "stdout",
     "output_type": "stream",
     "text": [
      "indice: 4\n",
      "Contar: 2\n"
     ]
    }
   ],
   "source": [
    "lis_fam = [\"heidy\", 22, \"ines\", 54, \"henry\", 33, \"oscar\", 54]\n",
    "\n",
    "print(f\"indice: {lis_fam.index(\"henry\")}\") #Obtiene el indice de la lista\n",
    "print(f\"Contar: {lis_fam.count(54)}\") # Contar cuantas veces aparece algo"
   ]
  },
  {
   "cell_type": "code",
   "execution_count": 67,
   "id": "e8edbfdc",
   "metadata": {},
   "outputs": [
    {
     "name": "stdout",
     "output_type": "stream",
     "text": [
      "['heidy', 22, 'ines', 54, 33, 'oscar', 54]\n"
     ]
    }
   ],
   "source": [
    "del(list_fam[lis_fam.index(\"henry\")])\n",
    "print(list_fam)"
   ]
  },
  {
   "cell_type": "code",
   "execution_count": 70,
   "id": "e39d2007",
   "metadata": {},
   "outputs": [
    {
     "name": "stdout",
     "output_type": "stream",
     "text": [
      "Mayumi\n"
     ]
    }
   ],
   "source": [
    "name = \"mayumi\"\n",
    "print(name.capitalize())"
   ]
  },
  {
   "cell_type": "code",
   "execution_count": 71,
   "id": "6c4e0acf",
   "metadata": {},
   "outputs": [
    {
     "name": "stdout",
     "output_type": "stream",
     "text": [
      "Susel\n"
     ]
    }
   ],
   "source": [
    "lista_entornos = [\"susel\", \"brandon\", \"alejandro\", \"gabriel\"]\n",
    "lista_entornos = lista_entornos[0].capitalize()\n",
    "print(lista_entornos)"
   ]
  },
  {
   "cell_type": "code",
   "execution_count": 72,
   "id": "7d3f857b",
   "metadata": {},
   "outputs": [
    {
     "name": "stdout",
     "output_type": "stream",
     "text": [
      "ma*umi\n"
     ]
    }
   ],
   "source": [
    "print(name.replace(\"y\", \"*\"))"
   ]
  },
  {
   "cell_type": "code",
   "execution_count": 73,
   "id": "228761b1",
   "metadata": {},
   "outputs": [
    {
     "data": {
      "text/plain": [
       "'MAYUMI'"
      ]
     },
     "execution_count": 73,
     "metadata": {},
     "output_type": "execute_result"
    }
   ],
   "source": [
    "name.upper()"
   ]
  },
  {
   "cell_type": "code",
   "execution_count": 75,
   "id": "c22122b7",
   "metadata": {},
   "outputs": [
    {
     "name": "stdout",
     "output_type": "stream",
     "text": [
      "['heidy', 22, 'ines', 54, 'henry', 33, 'oscar', 54]\n",
      "[54, 'oscar', 33, 'henry', 54, 'ines', 22, 'heidy']\n"
     ]
    }
   ],
   "source": [
    "print(lis_fam)\n",
    "lis_fam.reverse()\n",
    "print(lis_fam)"
   ]
  }
 ],
 "metadata": {
  "kernelspec": {
   "display_name": "Python 3",
   "language": "python",
   "name": "python3"
  },
  "language_info": {
   "codemirror_mode": {
    "name": "ipython",
    "version": 3
   },
   "file_extension": ".py",
   "mimetype": "text/x-python",
   "name": "python",
   "nbconvert_exporter": "python",
   "pygments_lexer": "ipython3",
   "version": "3.13.3"
  }
 },
 "nbformat": 4,
 "nbformat_minor": 5
}
