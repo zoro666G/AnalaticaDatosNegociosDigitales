{
 "cells": [
  {
   "cell_type": "markdown",
   "id": "917aea93",
   "metadata": {},
   "source": [
    "## Ejemplo 2: Variables\n",
    "\n",
    "### 1. Objetivos:\n",
    "\n",
    "- Entender cual es la sintaxis de la asignacion de variables en python\n",
    "- Aprender la convencion de nombramiento de variables"
   ]
  },
  {
   "cell_type": "markdown",
   "id": "d7d80912",
   "metadata": {},
   "source": [
    "### 2. Desarrollo\n",
    "\n",
    "Los siguientes nombres son nombres posibles de variables en Python:\n",
    "\n",
    "- var_1\n",
    "- variable_2\n",
    "- variable_dos\n",
    "- variable_nueva_tres\n",
    "- esta_es_una_nueva_variable"
   ]
  },
  {
   "cell_type": "markdown",
   "id": "5d6c43d0",
   "metadata": {},
   "source": [
    "Los siguientes nombres son nombres invalidos  de variables en Python:\n",
    "\n",
    "- 1_2\n",
    "- 1_variable\n",
    "- variableDos\n",
    "- EstaEsUnaVariable\n",
    "- Soy una variable"
   ]
  },
  {
   "cell_type": "markdown",
   "id": "612c72b1",
   "metadata": {},
   "source": [
    "\n",
    "Asignemos unas cuantas variables"
   ]
  },
  {
   "cell_type": "code",
   "execution_count": 1,
   "id": "a5eceb30",
   "metadata": {},
   "outputs": [],
   "source": [
    "var_1 = 3\n",
    "var_2 = 6\n",
    "variable_3 = 10\n",
    "variable_nueva_4 = 20"
   ]
  },
  {
   "cell_type": "markdown",
   "id": "4ac5a9ad",
   "metadata": {},
   "source": [
    "Podemos acceder a su contenido con tan solo escribir el nombre de la variable en una celda y correrla"
   ]
  },
  {
   "cell_type": "code",
   "execution_count": 4,
   "id": "8ba9b100",
   "metadata": {},
   "outputs": [
    {
     "data": {
      "text/plain": [
       "3"
      ]
     },
     "execution_count": 4,
     "metadata": {},
     "output_type": "execute_result"
    }
   ],
   "source": [
    "var_1"
   ]
  },
  {
   "cell_type": "code",
   "execution_count": 5,
   "id": "87f3511e",
   "metadata": {},
   "outputs": [
    {
     "data": {
      "text/plain": [
       "20"
      ]
     },
     "execution_count": 5,
     "metadata": {},
     "output_type": "execute_result"
    }
   ],
   "source": [
    "variable_nueva_4"
   ]
  },
  {
   "cell_type": "markdown",
   "id": "e5f98802",
   "metadata": {},
   "source": [
    "Si intentro llamar una variable que no se ha asignado o no existe, JN va a lanzar un error"
   ]
  },
  {
   "cell_type": "code",
   "execution_count": 6,
   "id": "e6f77054",
   "metadata": {},
   "outputs": [
    {
     "ename": "NameError",
     "evalue": "name 'var_5' is not defined",
     "output_type": "error",
     "traceback": [
      "\u001b[31m---------------------------------------------------------------------------\u001b[39m",
      "\u001b[31mNameError\u001b[39m                                 Traceback (most recent call last)",
      "\u001b[36mCell\u001b[39m\u001b[36m \u001b[39m\u001b[32mIn[6]\u001b[39m\u001b[32m, line 1\u001b[39m\n\u001b[32m----> \u001b[39m\u001b[32m1\u001b[39m \u001b[43mvar_5\u001b[49m\n",
      "\u001b[31mNameError\u001b[39m: name 'var_5' is not defined"
     ]
    }
   ],
   "source": [
    "var_5"
   ]
  },
  {
   "cell_type": "markdown",
   "id": "f28bf555",
   "metadata": {},
   "source": [
    "De igual manera, si se escribe una asignacion, pero no se corre la celda, esa variable no estara disponible\n",
    "para el notebook mas adelante"
   ]
  },
  {
   "cell_type": "code",
   "execution_count": 7,
   "id": "6a0d4324",
   "metadata": {},
   "outputs": [],
   "source": [
    "var_2 = 66"
   ]
  },
  {
   "cell_type": "code",
   "execution_count": 8,
   "id": "774ee95c",
   "metadata": {},
   "outputs": [
    {
     "data": {
      "text/plain": [
       "66"
      ]
     },
     "execution_count": 8,
     "metadata": {},
     "output_type": "execute_result"
    }
   ],
   "source": [
    "var_2"
   ]
  },
  {
   "cell_type": "markdown",
   "id": "fbcda3c2",
   "metadata": {},
   "source": [
    "## Reto 1: Variables \n",
    "\n",
    "### 1. Objetivos:\n",
    "\n",
    "    - Practicar convencion de nombramiento y asignacion de variables\n",
    "\n",
    "### 2. Desarrollo:\n",
    "\n",
    "Realizar la siguiente practica"
   ]
  },
  {
   "cell_type": "code",
   "execution_count": null,
   "id": "cc46cb72",
   "metadata": {},
   "outputs": [],
   "source": [
    "# Asigna el numero 12345 a una variable llamada variable locochona\n",
    "\n",
    "variable_locochona: 12345\n",
    "\n",
    "# Asigna el numero 14.567 a la variable var decimal\n",
    "\n",
    "var_decimal: 14.567\n",
    "\n",
    "# Asigna un numero cualquiera a una variable que tenga 5 palabras en su nombre\n",
    "\n",
    "esta_es_una_nueva_variable: 666\n",
    "\n",
    "# Asigna cualquier numero a una variable que incluya palabras y numeros en su nombre\n",
    "\n",
    "variable_nueva_1: 106"
   ]
  }
 ],
 "metadata": {
  "kernelspec": {
   "display_name": "Python 3",
   "language": "python",
   "name": "python3"
  },
  "language_info": {
   "codemirror_mode": {
    "name": "ipython",
    "version": 3
   },
   "file_extension": ".py",
   "mimetype": "text/x-python",
   "name": "python",
   "nbconvert_exporter": "python",
   "pygments_lexer": "ipython3",
   "version": "3.13.3"
  }
 },
 "nbformat": 4,
 "nbformat_minor": 5
}
