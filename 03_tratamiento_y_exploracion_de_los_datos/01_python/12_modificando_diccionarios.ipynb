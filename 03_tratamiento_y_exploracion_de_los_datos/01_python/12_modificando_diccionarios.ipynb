{
 "cells": [
  {
   "cell_type": "markdown",
   "id": "badb2cc7",
   "metadata": {},
   "source": [
    "># Modificando Diccionarios"
   ]
  },
  {
   "cell_type": "markdown",
   "id": "85c11e59",
   "metadata": {},
   "source": [
    "## 1. Objetivos\n",
    "\n",
    "- Practicar los tres metodos basicos de modificacion de diccionarios: **Agregar datos, modificar datos y borrar llaves** "
   ]
  },
  {
   "cell_type": "markdown",
   "id": "822d1d50",
   "metadata": {},
   "source": [
    "## 2. Desarrollo\n",
    "\n",
    "Tenemos 3 maneras basicas de modificar los diccionarios\n",
    "\n",
    "---"
   ]
  },
  {
   "cell_type": "markdown",
   "id": "b6bd636e",
   "metadata": {},
   "source": [
    "### Agregar Datos\n",
    "\n",
    "Para agregar un dato a un diccionario ya existente, basta con llamar la llave que queremos agregar y asignar un valor"
   ]
  },
  {
   "cell_type": "code",
   "execution_count": 7,
   "id": "6823b811",
   "metadata": {},
   "outputs": [],
   "source": [
    "from pprint import pprint"
   ]
  },
  {
   "cell_type": "code",
   "execution_count": 8,
   "id": "4e502d3c",
   "metadata": {},
   "outputs": [
    {
     "name": "stdout",
     "output_type": "stream",
     "text": [
      "{'nombre': 'Maluma', 'telefono': 5546352431, 'dir': {'colonia': 'El 61', 'calle': 'Pirineos', 'num': 69, 'cp': 42830}}\n"
     ]
    }
   ],
   "source": [
    "info_de_contacto = {\n",
    "\n",
    "    'nombre': 'Maluma',\n",
    "    'telefono': 5546352431,\n",
    "    'dir': {\n",
    "        'colonia': 'El 61',\n",
    "        'calle': 'Pirineos',\n",
    "        'num': 69,\n",
    "        'cp': 42830\n",
    "    }\n",
    "}\n",
    "\n",
    "print(info_de_contacto)"
   ]
  },
  {
   "cell_type": "code",
   "execution_count": 9,
   "id": "ef1846eb",
   "metadata": {},
   "outputs": [
    {
     "name": "stdout",
     "output_type": "stream",
     "text": [
      "{'dir': {'calle': 'Pirineos', 'colonia': 'El 61', 'cp': 42830, 'num': 69},\n",
      " 'nombre': 'Maluma',\n",
      " 'telefono': 5546352431}\n"
     ]
    }
   ],
   "source": [
    "pprint(info_de_contacto)"
   ]
  },
  {
   "cell_type": "code",
   "execution_count": 10,
   "id": "4fdaa26b",
   "metadata": {},
   "outputs": [],
   "source": [
    "info_de_contacto['email'] = 'Maluma_hasta_abajo@regechafa.com'"
   ]
  },
  {
   "cell_type": "code",
   "execution_count": 11,
   "id": "886c8df0",
   "metadata": {},
   "outputs": [
    {
     "name": "stdout",
     "output_type": "stream",
     "text": [
      "{'dir': {'calle': 'Pirineos', 'colonia': 'El 61', 'cp': 42830, 'num': 69},\n",
      " 'email': 'Maluma_hasta_abajo@regechafa.com',\n",
      " 'nombre': 'Maluma',\n",
      " 'telefono': 5546352431}\n"
     ]
    }
   ],
   "source": [
    "pprint(info_de_contacto)"
   ]
  },
  {
   "cell_type": "markdown",
   "id": "3c3ad38a",
   "metadata": {},
   "source": [
    "## Modificar pares llave-valor existentes\n",
    "\n",
    "Para modificar un par llave-valor ya existente, basta con reasignar a una llave de nuestro diccionario el nuevo valor que queremos agregar. Por ejemplo, imaginemos que esta persona cambio de direccion:"
   ]
  },
  {
   "cell_type": "code",
   "execution_count": 14,
   "id": "d8cd471e",
   "metadata": {},
   "outputs": [
    {
     "name": "stdout",
     "output_type": "stream",
     "text": [
      "{'dir': {'calle': 'Progreso',\n",
      "         'colonia': 'Escandalo',\n",
      "         'cp': '11800',\n",
      "         'num': 189},\n",
      " 'email': 'Maluma_hasta_abajo@regechafa.com',\n",
      " 'nombre': 'Maluma',\n",
      " 'telefono': 5546352431}\n"
     ]
    }
   ],
   "source": [
    "info_de_contacto['dir'] = {\n",
    "    'colonia': 'Escandalo',\n",
    "    'calle': 'Progreso',\n",
    "    'num':189,\n",
    "    'cp':'11800'\n",
    "}\n",
    "\n",
    "\n",
    "pprint(info_de_contacto)"
   ]
  },
  {
   "cell_type": "code",
   "execution_count": 15,
   "id": "2c3ba1a2",
   "metadata": {},
   "outputs": [],
   "source": [
    "info_de_contacto['dir']['colonia'] = 'SalteSiPuedes'"
   ]
  },
  {
   "cell_type": "code",
   "execution_count": 16,
   "id": "9fb74fc3",
   "metadata": {},
   "outputs": [
    {
     "name": "stdout",
     "output_type": "stream",
     "text": [
      "{'dir': {'calle': 'Progreso',\n",
      "         'colonia': 'SalteSiPuedes',\n",
      "         'cp': '11800',\n",
      "         'num': 189},\n",
      " 'email': 'Maluma_hasta_abajo@regechafa.com',\n",
      " 'nombre': 'Maluma',\n",
      " 'telefono': 5546352431}\n"
     ]
    }
   ],
   "source": [
    "pprint(info_de_contacto)"
   ]
  },
  {
   "cell_type": "markdown",
   "id": "4ca61769",
   "metadata": {},
   "source": [
    "Podemos incluso modificar estructuras de datos dentro de nuestro diccionario. Por ejemplo, ¿Que tal si hubo un error al agregar la nueva direccion y ahora tenemos que cambiar solamente el numero:"
   ]
  },
  {
   "cell_type": "code",
   "execution_count": 17,
   "id": "239f234c",
   "metadata": {},
   "outputs": [
    {
     "name": "stdout",
     "output_type": "stream",
     "text": [
      "{'dir': {'calle': 'Progreso',\n",
      "         'colonia': 'SalteSiPuedes',\n",
      "         'cp': '11800',\n",
      "         'num': 666},\n",
      " 'email': 'Maluma_hasta_abajo@regechafa.com',\n",
      " 'nombre': 'Maluma',\n",
      " 'telefono': 5546352431}\n"
     ]
    }
   ],
   "source": [
    "info_de_contacto['dir']['num'] = 666\n",
    "\n",
    "pprint(info_de_contacto)"
   ]
  },
  {
   "cell_type": "markdown",
   "id": "159165d3",
   "metadata": {},
   "source": [
    "## Eliminando datos\n",
    "\n",
    "Para eliminar datos, se puede usar el metodo `pop`. Como se recordara, el nombre de este metodo es identico al metodo para eliminar elementos de una lista. La diferencia es que el metodo `pop` de las listas recibe indices como argumentos, el metodo `pop` de diccionarios recibe llaves como argumentos:"
   ]
  },
  {
   "cell_type": "code",
   "execution_count": 19,
   "id": "92bf8d47",
   "metadata": {},
   "outputs": [
    {
     "name": "stdout",
     "output_type": "stream",
     "text": [
      "{'dir': {'calle': 'Progreso',\n",
      "         'colonia': 'SalteSiPuedes',\n",
      "         'cp': '11800',\n",
      "         'num': 666},\n",
      " 'email': 'Maluma_hasta_abajo@regechafa.com',\n",
      " 'nombre': 'Maluma'}\n"
     ]
    }
   ],
   "source": [
    "info_de_contacto.pop('telefono')\n",
    "pprint(info_de_contacto)"
   ]
  }
 ],
 "metadata": {
  "kernelspec": {
   "display_name": "Python 3",
   "language": "python",
   "name": "python3"
  },
  "language_info": {
   "codemirror_mode": {
    "name": "ipython",
    "version": 3
   },
   "file_extension": ".py",
   "mimetype": "text/x-python",
   "name": "python",
   "nbconvert_exporter": "python",
   "pygments_lexer": "ipython3",
   "version": "3.13.3"
  }
 },
 "nbformat": 4,
 "nbformat_minor": 5
}
