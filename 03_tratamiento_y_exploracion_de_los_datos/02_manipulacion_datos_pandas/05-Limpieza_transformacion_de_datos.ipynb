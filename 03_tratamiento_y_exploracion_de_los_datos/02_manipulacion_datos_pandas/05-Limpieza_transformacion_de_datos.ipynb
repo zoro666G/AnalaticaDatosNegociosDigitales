{
 "cells": [
  {
   "cell_type": "markdown",
   "id": "3f1c0759",
   "metadata": {},
   "source": [
    "# Importar Librerias"
   ]
  },
  {
   "cell_type": "code",
   "execution_count": 1,
   "id": "db67d6ac",
   "metadata": {},
   "outputs": [],
   "source": [
    "### Importar Librerias\n",
    "import pandas as pd\n",
    "import numpy as np\n",
    "import matplotlib.pyplot as plt"
   ]
  },
  {
   "cell_type": "markdown",
   "id": "bb27674b",
   "metadata": {},
   "source": [
    "## Importar archivo .CSV"
   ]
  },
  {
   "cell_type": "code",
   "execution_count": 2,
   "id": "05209fa8",
   "metadata": {},
   "outputs": [],
   "source": [
    "salaries = pd.read_csv(\"./Data/linkedin-jobs-usa.csv\")"
   ]
  },
  {
   "cell_type": "markdown",
   "id": "ed61b51e",
   "metadata": {},
   "source": [
    "## Exploracion Inicial"
   ]
  },
  {
   "cell_type": "code",
   "execution_count": 3,
   "id": "da947f00",
   "metadata": {},
   "outputs": [
    {
     "name": "stdout",
     "output_type": "stream",
     "text": [
      "<class 'pandas.core.frame.DataFrame'>\n",
      "RangeIndex: 2845 entries, 0 to 2844\n",
      "Data columns (total 9 columns):\n",
      " #   Column         Non-Null Count  Dtype \n",
      "---  ------         --------------  ----- \n",
      " 0   title          2845 non-null   object\n",
      " 1   company        2845 non-null   object\n",
      " 2   description    2845 non-null   object\n",
      " 3   onsite_remote  2845 non-null   object\n",
      " 4   salary         929 non-null    object\n",
      " 5   location       2845 non-null   object\n",
      " 6   criteria       2845 non-null   object\n",
      " 7   posted_date    2845 non-null   object\n",
      " 8   link           2845 non-null   object\n",
      "dtypes: object(9)\n",
      "memory usage: 200.2+ KB\n"
     ]
    }
   ],
   "source": [
    "salaries.info()"
   ]
  },
  {
   "cell_type": "markdown",
   "id": "44404de0",
   "metadata": {},
   "source": [
    "## Tratamiento de duplicados"
   ]
  },
  {
   "cell_type": "code",
   "execution_count": 14,
   "id": "b1b89df7",
   "metadata": {},
   "outputs": [],
   "source": [
    "salaries_limpieza = salaries.copy()"
   ]
  },
  {
   "cell_type": "code",
   "execution_count": 6,
   "id": "c0544e9b",
   "metadata": {},
   "outputs": [
    {
     "data": {
      "text/plain": [
       "0       False\n",
       "1       False\n",
       "2       False\n",
       "3       False\n",
       "4       False\n",
       "        ...  \n",
       "2840    False\n",
       "2841    False\n",
       "2842    False\n",
       "2843    False\n",
       "2844    False\n",
       "Length: 2845, dtype: bool"
      ]
     },
     "execution_count": 6,
     "metadata": {},
     "output_type": "execute_result"
    }
   ],
   "source": [
    "salaries_limpieza.duplicated()"
   ]
  },
  {
   "cell_type": "code",
   "execution_count": 8,
   "id": "26499222",
   "metadata": {},
   "outputs": [
    {
     "data": {
      "text/plain": [
       "np.int64(2845)"
      ]
     },
     "execution_count": 8,
     "metadata": {},
     "output_type": "execute_result"
    }
   ],
   "source": [
    "salaries_limpieza.duplicated().count()\n"
   ]
  },
  {
   "cell_type": "code",
   "execution_count": 10,
   "id": "8699d4dc",
   "metadata": {},
   "outputs": [
    {
     "data": {
      "text/html": [
       "<div>\n",
       "<style scoped>\n",
       "    .dataframe tbody tr th:only-of-type {\n",
       "        vertical-align: middle;\n",
       "    }\n",
       "\n",
       "    .dataframe tbody tr th {\n",
       "        vertical-align: top;\n",
       "    }\n",
       "\n",
       "    .dataframe thead th {\n",
       "        text-align: right;\n",
       "    }\n",
       "</style>\n",
       "<table border=\"1\" class=\"dataframe\">\n",
       "  <thead>\n",
       "    <tr style=\"text-align: right;\">\n",
       "      <th></th>\n",
       "      <th>title</th>\n",
       "      <th>company</th>\n",
       "      <th>description</th>\n",
       "      <th>onsite_remote</th>\n",
       "      <th>salary</th>\n",
       "      <th>location</th>\n",
       "      <th>criteria</th>\n",
       "      <th>posted_date</th>\n",
       "      <th>link</th>\n",
       "    </tr>\n",
       "  </thead>\n",
       "  <tbody>\n",
       "  </tbody>\n",
       "</table>\n",
       "</div>"
      ],
      "text/plain": [
       "Empty DataFrame\n",
       "Columns: [title, company, description, onsite_remote, salary, location, criteria, posted_date, link]\n",
       "Index: []"
      ]
     },
     "execution_count": 10,
     "metadata": {},
     "output_type": "execute_result"
    }
   ],
   "source": [
    "salaries_limpieza[salaries_limpieza.duplicated()]"
   ]
  },
  {
   "cell_type": "code",
   "execution_count": 11,
   "id": "714dd138",
   "metadata": {},
   "outputs": [],
   "source": [
    "salaries_limpieza = salaries_limpieza.drop_duplicates"
   ]
  },
  {
   "cell_type": "markdown",
   "id": "52a45e07",
   "metadata": {},
   "source": [
    "## Tratamiento de valores nulos NaN\n",
    "\n",
    "### Visualizar los valores nulos"
   ]
  },
  {
   "cell_type": "code",
   "execution_count": 16,
   "id": "08234a8b",
   "metadata": {},
   "outputs": [
    {
     "name": "stdout",
     "output_type": "stream",
     "text": [
      "Valores NaN por columna title               0\n",
      "company             0\n",
      "description         0\n",
      "onsite_remote       0\n",
      "salary           1916\n",
      "location            0\n",
      "criteria            0\n",
      "posted_date         0\n",
      "link                0\n",
      "dtype: int64\n"
     ]
    }
   ],
   "source": [
    "print(f\"Valores NaN por columna {salaries_limpieza.isna().sum()}\")"
   ]
  },
  {
   "cell_type": "markdown",
   "id": "45a5b26f",
   "metadata": {},
   "source": [
    "## 1era Opcion: Eliminar todos los valores nulos"
   ]
  },
  {
   "cell_type": "code",
   "execution_count": 21,
   "id": "c939598a",
   "metadata": {},
   "outputs": [],
   "source": [
    "df_sin_nulos = salaries.dropna()"
   ]
  },
  {
   "cell_type": "code",
   "execution_count": 22,
   "id": "9498b4e6",
   "metadata": {},
   "outputs": [],
   "source": [
    "df_sin_nulos_columnas = salaries.dropna(axis=1)"
   ]
  },
  {
   "cell_type": "code",
   "execution_count": 23,
   "id": "c628a2a3",
   "metadata": {},
   "outputs": [
    {
     "data": {
      "text/plain": [
       "title            0\n",
       "company          0\n",
       "description      0\n",
       "onsite_remote    0\n",
       "salary           0\n",
       "location         0\n",
       "criteria         0\n",
       "posted_date      0\n",
       "link             0\n",
       "dtype: int64"
      ]
     },
     "execution_count": 23,
     "metadata": {},
     "output_type": "execute_result"
    }
   ],
   "source": [
    "df_sin_nulos.isna().sum()"
   ]
  },
  {
   "cell_type": "code",
   "execution_count": 26,
   "id": "9a1916f3",
   "metadata": {},
   "outputs": [
    {
     "data": {
      "text/html": [
       "<div>\n",
       "<style scoped>\n",
       "    .dataframe tbody tr th:only-of-type {\n",
       "        vertical-align: middle;\n",
       "    }\n",
       "\n",
       "    .dataframe tbody tr th {\n",
       "        vertical-align: top;\n",
       "    }\n",
       "\n",
       "    .dataframe thead th {\n",
       "        text-align: right;\n",
       "    }\n",
       "</style>\n",
       "<table border=\"1\" class=\"dataframe\">\n",
       "  <thead>\n",
       "    <tr style=\"text-align: right;\">\n",
       "      <th></th>\n",
       "      <th>title</th>\n",
       "      <th>company</th>\n",
       "      <th>description</th>\n",
       "      <th>onsite_remote</th>\n",
       "      <th>salary</th>\n",
       "      <th>location</th>\n",
       "      <th>criteria</th>\n",
       "      <th>posted_date</th>\n",
       "      <th>link</th>\n",
       "    </tr>\n",
       "  </thead>\n",
       "  <tbody>\n",
       "    <tr>\n",
       "      <th>8</th>\n",
       "      <td>Data Analyst</td>\n",
       "      <td>London Approach</td>\n",
       "      <td>The ideal candidate for the Data Analyst/Finan...</td>\n",
       "      <td>onsite</td>\n",
       "      <td>$100,000.00\\r\\n            -\\r\\n            $1...</td>\n",
       "      <td>Franklin, TN</td>\n",
       "      <td>[{'Seniority level': 'Associate'}, {'Employmen...</td>\n",
       "      <td>2022-11-21</td>\n",
       "      <td>https://www.linkedin.com/jobs/view/data-analys...</td>\n",
       "    </tr>\n",
       "    <tr>\n",
       "      <th>24</th>\n",
       "      <td>Data Analyst</td>\n",
       "      <td>Eva Garland Consulting, LLC</td>\n",
       "      <td>Reporting to the Director of Operations, the D...</td>\n",
       "      <td>onsite</td>\n",
       "      <td>$50,000.00\\r\\n            -\\r\\n            $55...</td>\n",
       "      <td>Raleigh, NC</td>\n",
       "      <td>[{'Seniority level': 'Entry level'}, {'Employm...</td>\n",
       "      <td>2022-11-22</td>\n",
       "      <td>https://www.linkedin.com/jobs/view/data-analys...</td>\n",
       "    </tr>\n",
       "    <tr>\n",
       "      <th>35</th>\n",
       "      <td>Data Analyst</td>\n",
       "      <td>London Approach</td>\n",
       "      <td>The ideal candidate for the Data Analyst/Finan...</td>\n",
       "      <td>onsite</td>\n",
       "      <td>$100,000.00\\r\\n            -\\r\\n            $1...</td>\n",
       "      <td>Franklin, TN</td>\n",
       "      <td>[{'Seniority level': 'Associate'}, {'Employmen...</td>\n",
       "      <td>2022-11-21</td>\n",
       "      <td>https://www.linkedin.com/jobs/view/data-analys...</td>\n",
       "    </tr>\n",
       "    <tr>\n",
       "      <th>61</th>\n",
       "      <td>Data Analyst</td>\n",
       "      <td>London Approach</td>\n",
       "      <td>The ideal candidate for the Data Analyst/Finan...</td>\n",
       "      <td>onsite</td>\n",
       "      <td>$100,000.00\\r\\n            -\\r\\n            $1...</td>\n",
       "      <td>Franklin, TN</td>\n",
       "      <td>[{'Seniority level': 'Associate'}, {'Employmen...</td>\n",
       "      <td>2022-11-21</td>\n",
       "      <td>https://www.linkedin.com/jobs/view/data-analys...</td>\n",
       "    </tr>\n",
       "    <tr>\n",
       "      <th>88</th>\n",
       "      <td>Data Analyst</td>\n",
       "      <td>London Approach</td>\n",
       "      <td>The ideal candidate for the Data Analyst/Finan...</td>\n",
       "      <td>onsite</td>\n",
       "      <td>$100,000.00\\r\\n            -\\r\\n            $1...</td>\n",
       "      <td>Franklin, TN</td>\n",
       "      <td>[{'Seniority level': 'Associate'}, {'Employmen...</td>\n",
       "      <td>2022-11-21</td>\n",
       "      <td>https://www.linkedin.com/jobs/view/data-analys...</td>\n",
       "    </tr>\n",
       "  </tbody>\n",
       "</table>\n",
       "</div>"
      ],
      "text/plain": [
       "           title                      company  \\\n",
       "8   Data Analyst              London Approach   \n",
       "24  Data Analyst  Eva Garland Consulting, LLC   \n",
       "35  Data Analyst              London Approach   \n",
       "61  Data Analyst              London Approach   \n",
       "88  Data Analyst              London Approach   \n",
       "\n",
       "                                          description onsite_remote  \\\n",
       "8   The ideal candidate for the Data Analyst/Finan...        onsite   \n",
       "24  Reporting to the Director of Operations, the D...        onsite   \n",
       "35  The ideal candidate for the Data Analyst/Finan...        onsite   \n",
       "61  The ideal candidate for the Data Analyst/Finan...        onsite   \n",
       "88  The ideal candidate for the Data Analyst/Finan...        onsite   \n",
       "\n",
       "                                               salary      location  \\\n",
       "8   $100,000.00\\r\\n            -\\r\\n            $1...  Franklin, TN   \n",
       "24  $50,000.00\\r\\n            -\\r\\n            $55...   Raleigh, NC   \n",
       "35  $100,000.00\\r\\n            -\\r\\n            $1...  Franklin, TN   \n",
       "61  $100,000.00\\r\\n            -\\r\\n            $1...  Franklin, TN   \n",
       "88  $100,000.00\\r\\n            -\\r\\n            $1...  Franklin, TN   \n",
       "\n",
       "                                             criteria posted_date  \\\n",
       "8   [{'Seniority level': 'Associate'}, {'Employmen...  2022-11-21   \n",
       "24  [{'Seniority level': 'Entry level'}, {'Employm...  2022-11-22   \n",
       "35  [{'Seniority level': 'Associate'}, {'Employmen...  2022-11-21   \n",
       "61  [{'Seniority level': 'Associate'}, {'Employmen...  2022-11-21   \n",
       "88  [{'Seniority level': 'Associate'}, {'Employmen...  2022-11-21   \n",
       "\n",
       "                                                 link  \n",
       "8   https://www.linkedin.com/jobs/view/data-analys...  \n",
       "24  https://www.linkedin.com/jobs/view/data-analys...  \n",
       "35  https://www.linkedin.com/jobs/view/data-analys...  \n",
       "61  https://www.linkedin.com/jobs/view/data-analys...  \n",
       "88  https://www.linkedin.com/jobs/view/data-analys...  "
      ]
     },
     "execution_count": 26,
     "metadata": {},
     "output_type": "execute_result"
    }
   ],
   "source": [
    "df_sin_nulos.head()"
   ]
  },
  {
   "cell_type": "code",
   "execution_count": 25,
   "id": "69e131f6",
   "metadata": {},
   "outputs": [
    {
     "data": {
      "text/plain": [
       "8     $100,000.00\\r\\n            -\\r\\n            $1...\n",
       "24    $50,000.00\\r\\n            -\\r\\n            $55...\n",
       "35    $100,000.00\\r\\n            -\\r\\n            $1...\n",
       "61    $100,000.00\\r\\n            -\\r\\n            $1...\n",
       "88    $100,000.00\\r\\n            -\\r\\n            $1...\n",
       "Name: salary, dtype: object"
      ]
     },
     "execution_count": 25,
     "metadata": {},
     "output_type": "execute_result"
    }
   ],
   "source": [
    "df_sin_nulos['salary'].head()"
   ]
  },
  {
   "cell_type": "code",
   "execution_count": 24,
   "id": "3f91a4de",
   "metadata": {},
   "outputs": [
    {
     "data": {
      "text/plain": [
       "(929, 9)"
      ]
     },
     "execution_count": 24,
     "metadata": {},
     "output_type": "execute_result"
    }
   ],
   "source": [
    "df_sin_nulos.shape"
   ]
  },
  {
   "cell_type": "markdown",
   "id": "011f492e",
   "metadata": {},
   "source": [
    "### Axis =0 revisa por fila\n",
    "### Axis =1 revisa por columna\n",
    "\n",
    "- how = 'Any' -> Elimina si por lo menos hay un NAN\n",
    "- how = 'All' -> Elimina si todos son NAN\n"
   ]
  },
  {
   "cell_type": "code",
   "execution_count": null,
   "id": "843a2f5d",
   "metadata": {},
   "outputs": [],
   "source": [
    "df_sin_nulos_columnas = salaries.dropna(axis=0,how='any')\n",
    "df_sin_nulos_columnas = salaries.dropna(axis=0,how='all')"
   ]
  },
  {
   "cell_type": "code",
   "execution_count": null,
   "id": "c86ceb8d",
   "metadata": {},
   "outputs": [],
   "source": [
    "df_sin_nulos_columnas = salaries.dropna(axis=1,how='any')\n",
    "df_sin_nulos_columnas = salaries.dropna(axis=1,how='all')\n"
   ]
  },
  {
   "cell_type": "markdown",
   "id": "1f77ddd2",
   "metadata": {},
   "source": [
    "## 2da Opcion: Remplazar NaNs por la media\n",
    "\n",
    "Parsing de la columna salary\n",
    "\n"
   ]
  },
  {
   "cell_type": "code",
   "execution_count": 28,
   "id": "e75a8211",
   "metadata": {},
   "outputs": [
    {
     "data": {
      "text/plain": [
       "8       $100,000.00\\r\\n            -\\r\\n            $1...\n",
       "24      $50,000.00\\r\\n            -\\r\\n            $55...\n",
       "35      $100,000.00\\r\\n            -\\r\\n            $1...\n",
       "61      $100,000.00\\r\\n            -\\r\\n            $1...\n",
       "88      $100,000.00\\r\\n            -\\r\\n            $1...\n",
       "                              ...                        \n",
       "2834        $30.00\\r\\n            -\\r\\n            $33.00\n",
       "2836    $120,000.00\\r\\n            -\\r\\n            $1...\n",
       "2841    $75,000.00\\r\\n            -\\r\\n            $95...\n",
       "2843    $85,000.00\\r\\n            -\\r\\n            $95...\n",
       "2844    $130,000.00\\r\\n            -\\r\\n            $1...\n",
       "Name: salary, Length: 929, dtype: object"
      ]
     },
     "execution_count": 28,
     "metadata": {},
     "output_type": "execute_result"
    }
   ],
   "source": [
    "df_sin_nulos['salary']"
   ]
  },
  {
   "cell_type": "code",
   "execution_count": 29,
   "id": "75c85a61",
   "metadata": {},
   "outputs": [
    {
     "name": "stderr",
     "output_type": "stream",
     "text": [
      "<>:6: SyntaxWarning: invalid escape sequence '\\d'\n",
      "<>:6: SyntaxWarning: invalid escape sequence '\\d'\n",
      "<>:6: SyntaxWarning: invalid escape sequence '\\d'\n",
      "<>:6: SyntaxWarning: invalid escape sequence '\\d'\n",
      "C:\\Users\\gusta\\AppData\\Local\\Temp\\ipykernel_11996\\3141640928.py:6: SyntaxWarning: invalid escape sequence '\\d'\n",
      "  df_sin_nulos['salary_numeric'] = df_sin_nulos['salary'].replace('[^\\d.]', '', regex=True).str.extract('(\\d+)').astype(float)\n",
      "C:\\Users\\gusta\\AppData\\Local\\Temp\\ipykernel_11996\\3141640928.py:6: SyntaxWarning: invalid escape sequence '\\d'\n",
      "  df_sin_nulos['salary_numeric'] = df_sin_nulos['salary'].replace('[^\\d.]', '', regex=True).str.extract('(\\d+)').astype(float)\n",
      "C:\\Users\\gusta\\AppData\\Local\\Temp\\ipykernel_11996\\3141640928.py:6: SettingWithCopyWarning: \n",
      "A value is trying to be set on a copy of a slice from a DataFrame.\n",
      "Try using .loc[row_indexer,col_indexer] = value instead\n",
      "\n",
      "See the caveats in the documentation: https://pandas.pydata.org/pandas-docs/stable/user_guide/indexing.html#returning-a-view-versus-a-copy\n",
      "  df_sin_nulos['salary_numeric'] = df_sin_nulos['salary'].replace('[^\\d.]', '', regex=True).str.extract('(\\d+)').astype(float)\n"
     ]
    }
   ],
   "source": [
    "## Este código toma una columna 'salary' que contiene valores de salario en formato de cadena, \n",
    "## elimina cualquier caracter no numérico, extrae los dígitos y convierte la columna resultante en valores numéricos de tipo float. \n",
    "#El resultado se almacena en una nueva columna llamada 'salary_numeric'. \n",
    "#Esto es útil cuando la columna 'salary' inicial contiene caracteres no numéricos y se desea trabajar con los salarios como valores numéricos\n",
    "\n",
    "df_sin_nulos['salary_numeric'] = df_sin_nulos['salary'].replace('[^\\d.]', '', regex=True).str.extract('(\\d+)').astype(float)"
   ]
  },
  {
   "cell_type": "code",
   "execution_count": 33,
   "id": "36dacc12",
   "metadata": {},
   "outputs": [
    {
     "data": {
      "text/plain": [
       "dtype('float64')"
      ]
     },
     "execution_count": 33,
     "metadata": {},
     "output_type": "execute_result"
    }
   ],
   "source": [
    "import re\n",
    "\n",
    "# Extrae el primer número válido (entero o decimal) de cada celda y lo convierte a float\n",
    "df_sin_nulos['salary_numeric'].dtype\n",
    "   "
   ]
  }
 ],
 "metadata": {
  "kernelspec": {
   "display_name": "Python 3",
   "language": "python",
   "name": "python3"
  },
  "language_info": {
   "codemirror_mode": {
    "name": "ipython",
    "version": 3
   },
   "file_extension": ".py",
   "mimetype": "text/x-python",
   "name": "python",
   "nbconvert_exporter": "python",
   "pygments_lexer": "ipython3",
   "version": "3.13.3"
  }
 },
 "nbformat": 4,
 "nbformat_minor": 5
}
