{
 "cells": [
  {
   "cell_type": "code",
   "execution_count": 11,
   "id": "3d664f26",
   "metadata": {},
   "outputs": [],
   "source": [
    "import pandas as pd"
   ]
  },
  {
   "cell_type": "code",
   "execution_count": 12,
   "id": "cf275ccc",
   "metadata": {},
   "outputs": [
    {
     "name": "stdout",
     "output_type": "stream",
     "text": [
      "  Nombre  Edad\n",
      "0    Ana    23\n",
      "1   Luis    30\n",
      "2  Pedro    27\n"
     ]
    }
   ],
   "source": [
    "datos = {\n",
    "\"Nombre\": [\"Ana\", \"Luis\", \"Pedro\"],\n",
    "\"Edad\": [23, 30, 27]\n",
    "}\n",
    "df = pd.DataFrame(datos)\n",
    "\n",
    "print(df)"
   ]
  },
  {
   "cell_type": "code",
   "execution_count": 13,
   "id": "ba8915d5",
   "metadata": {},
   "outputs": [],
   "source": [
    "# crear una lista\n",
    "\n",
    "edad = [30,40,50]"
   ]
  },
  {
   "cell_type": "code",
   "execution_count": 14,
   "id": "f35a3ff6",
   "metadata": {},
   "outputs": [],
   "source": [
    "# convertirla a serie\n",
    "serie = pd.Series(edad)"
   ]
  },
  {
   "cell_type": "code",
   "execution_count": 15,
   "id": "bf288636",
   "metadata": {},
   "outputs": [
    {
     "data": {
      "text/plain": [
       "0    30\n",
       "1    40\n",
       "2    50\n",
       "dtype: int64"
      ]
     },
     "execution_count": 15,
     "metadata": {},
     "output_type": "execute_result"
    }
   ],
   "source": [
    "# mostrar resultado\n",
    "serie"
   ]
  },
  {
   "cell_type": "code",
   "execution_count": 16,
   "id": "6513f5f5",
   "metadata": {},
   "outputs": [
    {
     "data": {
      "text/plain": [
       "np.int64(40)"
      ]
     },
     "execution_count": 16,
     "metadata": {},
     "output_type": "execute_result"
    }
   ],
   "source": [
    "serie [1]"
   ]
  },
  {
   "cell_type": "code",
   "execution_count": 17,
   "id": "0c673b0f",
   "metadata": {},
   "outputs": [],
   "source": [
    "# cambiar indices\n",
    "serie = pd.Series(edad, index = [\"Alex\", \"John\", \"Maria\"])"
   ]
  },
  {
   "cell_type": "code",
   "execution_count": 18,
   "id": "3d7bbe99",
   "metadata": {},
   "outputs": [
    {
     "data": {
      "text/plain": [
       "Alex     30\n",
       "John     40\n",
       "Maria    50\n",
       "dtype: int64"
      ]
     },
     "execution_count": 18,
     "metadata": {},
     "output_type": "execute_result"
    }
   ],
   "source": [
    "serie"
   ]
  },
  {
   "cell_type": "code",
   "execution_count": 19,
   "id": "48098f82",
   "metadata": {},
   "outputs": [
    {
     "data": {
      "text/plain": [
       "np.int64(30)"
      ]
     },
     "execution_count": 19,
     "metadata": {},
     "output_type": "execute_result"
    }
   ],
   "source": [
    "serie   ['Alex']"
   ]
  },
  {
   "cell_type": "markdown",
   "id": "122395c1",
   "metadata": {},
   "source": [
    "### Ejemplo 2"
   ]
  },
  {
   "cell_type": "code",
   "execution_count": 20,
   "id": "d8efb7f9",
   "metadata": {},
   "outputs": [
    {
     "name": "stdout",
     "output_type": "stream",
     "text": [
      "0      1\n",
      "1      4\n",
      "2      9\n",
      "3      2\n",
      "4      6\n",
      "5     10\n",
      "6    200\n",
      "dtype: int64\n"
     ]
    }
   ],
   "source": [
    "naranjas = pd.Series([1,4,9,2,6,10,200])\n",
    "print(naranjas)"
   ]
  },
  {
   "cell_type": "code",
   "execution_count": 21,
   "id": "47c78b1a",
   "metadata": {},
   "outputs": [
    {
     "data": {
      "text/plain": [
       "pandas.core.series.Series"
      ]
     },
     "execution_count": 21,
     "metadata": {},
     "output_type": "execute_result"
    }
   ],
   "source": [
    "type(naranjas)"
   ]
  }
 ],
 "metadata": {
  "kernelspec": {
   "display_name": "Python 3",
   "language": "python",
   "name": "python3"
  },
  "language_info": {
   "codemirror_mode": {
    "name": "ipython",
    "version": 3
   },
   "file_extension": ".py",
   "mimetype": "text/x-python",
   "name": "python",
   "nbconvert_exporter": "python",
   "pygments_lexer": "ipython3",
   "version": "3.13.2"
  }
 },
 "nbformat": 4,
 "nbformat_minor": 5
}
