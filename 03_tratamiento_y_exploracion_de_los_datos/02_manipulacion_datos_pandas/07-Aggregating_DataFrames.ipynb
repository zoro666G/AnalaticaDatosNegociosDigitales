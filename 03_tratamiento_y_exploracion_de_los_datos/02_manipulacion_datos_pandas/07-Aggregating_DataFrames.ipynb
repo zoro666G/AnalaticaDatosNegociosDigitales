{
 "cells": [
  {
   "cell_type": "markdown",
   "id": "811faaca",
   "metadata": {},
   "source": [
    "# Aggregating DataFrames\n",
    "\n",
    "En este notebook, se calcularan estadisticas de resumen en columnas del DataFrame y dominaras las estadisticas agrupadas y tablas dinamicas (pivot table)"
   ]
  },
  {
   "cell_type": "markdown",
   "id": "8170ac01",
   "metadata": {},
   "source": [
    "## Estadisticas de resumen\n",
    "\n",
    "**Media y mediana**\n",
    "\n",
    "Las estadisticas resumidas son exactamente lo que parecen: resumen muchos numeros en una sola estadistica. Por ejemplo, la media, la mediana, el minimo, y la desviacion tipica (Desviacion estandar) son estadisticas de resumen. Calcular estadisticas de resumen te permite hacerte una mejor idea de tus datos, aunque sean muchos.\n",
    "\n",
    "**Instrucciones**\n",
    "\n",
    "- Explorar el nuevo DataFrame imprimiendo las primeras filas del dataframe walmart_sales\n",
    "- Imprimir informacion sobre las columnas\n",
    "- Imprimir la media de la columna weekly_sales\n",
    "- Imprimir la mediana de la columna weekly_sales"
   ]
  },
  {
   "cell_type": "code",
   "execution_count": 2,
   "id": "de2fa0b9",
   "metadata": {},
   "outputs": [],
   "source": [
    "import pandas as pd"
   ]
  },
  {
   "cell_type": "code",
   "execution_count": 3,
   "id": "8d2fd6ee",
   "metadata": {},
   "outputs": [
    {
     "data": {
      "text/html": [
       "<div>\n",
       "<style scoped>\n",
       "    .dataframe tbody tr th:only-of-type {\n",
       "        vertical-align: middle;\n",
       "    }\n",
       "\n",
       "    .dataframe tbody tr th {\n",
       "        vertical-align: top;\n",
       "    }\n",
       "\n",
       "    .dataframe thead th {\n",
       "        text-align: right;\n",
       "    }\n",
       "</style>\n",
       "<table border=\"1\" class=\"dataframe\">\n",
       "  <thead>\n",
       "    <tr style=\"text-align: right;\">\n",
       "      <th></th>\n",
       "      <th>Store</th>\n",
       "      <th>Date</th>\n",
       "      <th>Weekly_Sales</th>\n",
       "      <th>Holiday_Flag</th>\n",
       "      <th>Temperature</th>\n",
       "      <th>Fuel_Price</th>\n",
       "      <th>CPI</th>\n",
       "      <th>Unemployment</th>\n",
       "    </tr>\n",
       "  </thead>\n",
       "  <tbody>\n",
       "    <tr>\n",
       "      <th>0</th>\n",
       "      <td>1</td>\n",
       "      <td>05-02-2010</td>\n",
       "      <td>1643690.90</td>\n",
       "      <td>0</td>\n",
       "      <td>42.31</td>\n",
       "      <td>2.572</td>\n",
       "      <td>211.096358</td>\n",
       "      <td>8.106</td>\n",
       "    </tr>\n",
       "    <tr>\n",
       "      <th>1</th>\n",
       "      <td>1</td>\n",
       "      <td>12-02-2010</td>\n",
       "      <td>1641957.44</td>\n",
       "      <td>1</td>\n",
       "      <td>38.51</td>\n",
       "      <td>2.548</td>\n",
       "      <td>211.242170</td>\n",
       "      <td>8.106</td>\n",
       "    </tr>\n",
       "    <tr>\n",
       "      <th>2</th>\n",
       "      <td>1</td>\n",
       "      <td>19-02-2010</td>\n",
       "      <td>1611968.17</td>\n",
       "      <td>0</td>\n",
       "      <td>39.93</td>\n",
       "      <td>2.514</td>\n",
       "      <td>211.289143</td>\n",
       "      <td>8.106</td>\n",
       "    </tr>\n",
       "    <tr>\n",
       "      <th>3</th>\n",
       "      <td>1</td>\n",
       "      <td>26-02-2010</td>\n",
       "      <td>1409727.59</td>\n",
       "      <td>0</td>\n",
       "      <td>46.63</td>\n",
       "      <td>2.561</td>\n",
       "      <td>211.319643</td>\n",
       "      <td>8.106</td>\n",
       "    </tr>\n",
       "    <tr>\n",
       "      <th>4</th>\n",
       "      <td>1</td>\n",
       "      <td>05-03-2010</td>\n",
       "      <td>1554806.68</td>\n",
       "      <td>0</td>\n",
       "      <td>46.50</td>\n",
       "      <td>2.625</td>\n",
       "      <td>211.350143</td>\n",
       "      <td>8.106</td>\n",
       "    </tr>\n",
       "  </tbody>\n",
       "</table>\n",
       "</div>"
      ],
      "text/plain": [
       "   Store        Date  Weekly_Sales  Holiday_Flag  Temperature  Fuel_Price  \\\n",
       "0      1  05-02-2010    1643690.90             0        42.31       2.572   \n",
       "1      1  12-02-2010    1641957.44             1        38.51       2.548   \n",
       "2      1  19-02-2010    1611968.17             0        39.93       2.514   \n",
       "3      1  26-02-2010    1409727.59             0        46.63       2.561   \n",
       "4      1  05-03-2010    1554806.68             0        46.50       2.625   \n",
       "\n",
       "          CPI  Unemployment  \n",
       "0  211.096358         8.106  \n",
       "1  211.242170         8.106  \n",
       "2  211.289143         8.106  \n",
       "3  211.319643         8.106  \n",
       "4  211.350143         8.106  "
      ]
     },
     "execution_count": 3,
     "metadata": {},
     "output_type": "execute_result"
    }
   ],
   "source": [
    "sales = pd.read_csv('./Data/walmart_sales.csv')\n",
    "sales.head()"
   ]
  },
  {
   "cell_type": "code",
   "execution_count": 4,
   "id": "8248a492",
   "metadata": {},
   "outputs": [
    {
     "data": {
      "text/plain": [
       "(6435, 8)"
      ]
     },
     "execution_count": 4,
     "metadata": {},
     "output_type": "execute_result"
    }
   ],
   "source": [
    "sales.shape # Tamaño del dataframe"
   ]
  },
  {
   "cell_type": "code",
   "execution_count": 5,
   "id": "301ae912",
   "metadata": {},
   "outputs": [
    {
     "name": "stdout",
     "output_type": "stream",
     "text": [
      "<class 'pandas.core.frame.DataFrame'>\n",
      "RangeIndex: 6435 entries, 0 to 6434\n",
      "Data columns (total 8 columns):\n",
      " #   Column        Non-Null Count  Dtype  \n",
      "---  ------        --------------  -----  \n",
      " 0   Store         6435 non-null   int64  \n",
      " 1   Date          6435 non-null   object \n",
      " 2   Weekly_Sales  6435 non-null   float64\n",
      " 3   Holiday_Flag  6435 non-null   int64  \n",
      " 4   Temperature   6435 non-null   float64\n",
      " 5   Fuel_Price    6435 non-null   float64\n",
      " 6   CPI           6435 non-null   float64\n",
      " 7   Unemployment  6435 non-null   float64\n",
      "dtypes: float64(5), int64(2), object(1)\n",
      "memory usage: 402.3+ KB\n"
     ]
    }
   ],
   "source": [
    "sales.info()"
   ]
  },
  {
   "cell_type": "code",
   "execution_count": 6,
   "id": "8de26478",
   "metadata": {},
   "outputs": [
    {
     "data": {
      "text/plain": [
       "np.float64(1046964.88)"
      ]
     },
     "execution_count": 6,
     "metadata": {},
     "output_type": "execute_result"
    }
   ],
   "source": [
    "# Media de la columna Weekly_Saless\n",
    "round(sales['Weekly_Sales'].mean(), 2)"
   ]
  },
  {
   "cell_type": "code",
   "execution_count": 7,
   "id": "516cd386",
   "metadata": {},
   "outputs": [
    {
     "data": {
      "text/plain": [
       "np.float64(960746.04)"
      ]
     },
     "execution_count": 7,
     "metadata": {},
     "output_type": "execute_result"
    }
   ],
   "source": [
    "# Mediana de la columna Weekly_Sales\n",
    "sales['Weekly_Sales'].median()"
   ]
  },
  {
   "cell_type": "markdown",
   "id": "c1d8767c",
   "metadata": {},
   "source": [
    "## Resumir Fechas\n",
    "\n",
    "Las estadisticas sumarias tambien pueden calcularse sobre columnas de fecha que tengan valores con el tipo de dato datetime64. Algunas estadisticas de resumen como la media no tienen mucho sentido de las fechas, pero otras son extremadamente utiles como, por ejemplo, el minimo y el maximmo que te permiten ver que intervalo de tiempo abarcan tus datos.\n",
    "\n",
    "**Instrucciones**\n",
    "\n",
    "- Imprimir el maximo de la columna date\n",
    "- Imprimir el minimo de la columna date"
   ]
  },
  {
   "cell_type": "code",
   "execution_count": 8,
   "id": "d2e19f2e",
   "metadata": {},
   "outputs": [],
   "source": [
    "#sales[\"Date2\"] = sales['Date'].astype('datetime64[ns]')"
   ]
  },
  {
   "cell_type": "code",
   "execution_count": 9,
   "id": "4c2fe413",
   "metadata": {},
   "outputs": [
    {
     "data": {
      "text/plain": [
       "'31-12-2010'"
      ]
     },
     "execution_count": 9,
     "metadata": {},
     "output_type": "execute_result"
    }
   ],
   "source": [
    "sales['Date'].max()"
   ]
  },
  {
   "cell_type": "code",
   "execution_count": 10,
   "id": "3c9c83f0",
   "metadata": {},
   "outputs": [
    {
     "data": {
      "text/plain": [
       "'01-04-2011'"
      ]
     },
     "execution_count": 10,
     "metadata": {},
     "output_type": "execute_result"
    }
   ],
   "source": [
    "sales['Date'].min()"
   ]
  },
  {
   "cell_type": "markdown",
   "id": "3d36d703",
   "metadata": {},
   "source": [
    "## Funcion agg\n",
    "\n",
    "Aunque pandas y numpy tienen muchas funciones, a veces pueden necesitar una funcion diferente para resumir los datos.\n",
    "\n",
    "Ek metodo .agg() Permite aplicar tus propias funciones personalizadas a un DataFrame, asi como aplicar funciones a mas de una columna de un DataFrame a la vez, haciendo que tus agregaciones sean muy eficientes.\n",
    "\n",
    "`df['column'].agg(function)`\n",
    "\n",
    "En la funcion personalizada para este ejercicio \"IQR\" es la abreviatura del rango intercuantilico, que es el percentil 75 menos el percentil 25. Es una alternativa a la desviacion tipica (estandar) que resulta util si tus datos contienen valores atipicos.\n",
    "\n",
    "**Instrucciones**\n",
    "\n",
    "1. Utiliza la funcion personalizada iqr definida por ti junto con el metodo .agg() para imprimir la IQR de la columna temperature_c de sales\n",
    "2. Actualiza la seleccion de columnas para utilizar la funcion personalizada iqr con agg() para imprimir los IQR de las columnas temperature, ////f-3uel_price, unemployment, en orden.\n",
    "3. Actualiza las llamadas a la funcion agg, para obtener el IQR y la mediana en ese orden."
   ]
  },
  {
   "cell_type": "code",
   "execution_count": 11,
   "id": "2ffb2201",
   "metadata": {},
   "outputs": [],
   "source": [
    "import numpy as np\n",
    "def iqr (columna):\n",
    "    return columna.quantile(0.75) - columna.quantile(0.25)\n"
   ]
  },
  {
   "cell_type": "code",
   "execution_count": 12,
   "id": "4e29b68f",
   "metadata": {},
   "outputs": [
    {
     "name": "stdout",
     "output_type": "stream",
     "text": [
      " El IQR de Temperatura 27.479999999999997\n",
      "Temperature     27.480\n",
      "Fuel_Price       0.802\n",
      "Unemployment     1.731\n",
      "dtype: float64\n"
     ]
    }
   ],
   "source": [
    "# Imprimir IRQ de la columna temperature\n",
    "\n",
    "print(f' El IQR de Temperatura {sales['Temperature'].agg(iqr)}')\n",
    "\n",
    "# Actualizar la impresion del IQR de temperature, Fuel_price, unemployment\n",
    "print(sales[['Temperature', 'Fuel_Price', 'Unemployment']].agg(iqr))"
   ]
  },
  {
   "cell_type": "code",
   "execution_count": 13,
   "id": "a333306a",
   "metadata": {},
   "outputs": [
    {
     "name": "stdout",
     "output_type": "stream",
     "text": [
      "        Temperature  Fuel_Price  Unemployment\n",
      "iqr           27.48       0.802         1.731\n",
      "median        62.67       3.445         7.874\n"
     ]
    },
    {
     "name": "stderr",
     "output_type": "stream",
     "text": [
      "C:\\Users\\gusta\\AppData\\Local\\Temp\\ipykernel_26536\\1972042188.py:1: FutureWarning: The provided callable <function median at 0x000001B09D0398A0> is currently using Series.median. In a future version of pandas, the provided callable will be used directly. To keep current behavior pass the string \"median\" instead.\n",
      "  print(sales[['Temperature', 'Fuel_Price', 'Unemployment']].agg([iqr, np.median]))\n",
      "C:\\Users\\gusta\\AppData\\Local\\Temp\\ipykernel_26536\\1972042188.py:1: FutureWarning: The provided callable <function median at 0x000001B09D0398A0> is currently using Series.median. In a future version of pandas, the provided callable will be used directly. To keep current behavior pass the string \"median\" instead.\n",
      "  print(sales[['Temperature', 'Fuel_Price', 'Unemployment']].agg([iqr, np.median]))\n",
      "C:\\Users\\gusta\\AppData\\Local\\Temp\\ipykernel_26536\\1972042188.py:1: FutureWarning: The provided callable <function median at 0x000001B09D0398A0> is currently using Series.median. In a future version of pandas, the provided callable will be used directly. To keep current behavior pass the string \"median\" instead.\n",
      "  print(sales[['Temperature', 'Fuel_Price', 'Unemployment']].agg([iqr, np.median]))\n"
     ]
    }
   ],
   "source": [
    "print(sales[['Temperature', 'Fuel_Price', 'Unemployment']].agg([iqr, np.median]))"
   ]
  },
  {
   "cell_type": "code",
   "execution_count": 14,
   "id": "ad345d3c",
   "metadata": {},
   "outputs": [
    {
     "name": "stdout",
     "output_type": "stream",
     "text": [
      "        Temperature  Fuel_Price  Unemployment\n",
      "iqr           27.48       0.802         1.731\n",
      "median        62.67       3.445         7.874\n"
     ]
    }
   ],
   "source": [
    "print(sales[['Temperature', 'Fuel_Price', 'Unemployment']].agg([iqr, 'median']))"
   ]
  },
  {
   "cell_type": "code",
   "execution_count": 15,
   "id": "b5c85689",
   "metadata": {},
   "outputs": [
    {
     "name": "stdout",
     "output_type": "stream",
     "text": [
      "        Temperature  Fuel_Price  Unemployment\n",
      "iqr       27.480000    0.802000      1.731000\n",
      "median    62.670000    3.445000      7.874000\n",
      "mean      60.663782    3.358607      7.999151\n",
      "max      100.140000    4.468000     14.313000\n",
      "min       -2.060000    2.472000      3.879000\n"
     ]
    }
   ],
   "source": [
    "print(sales[['Temperature', 'Fuel_Price', 'Unemployment']].agg([iqr, 'median', 'mean', 'max', 'min']))"
   ]
  },
  {
   "cell_type": "code",
   "execution_count": 16,
   "id": "5e4c1bba",
   "metadata": {},
   "outputs": [],
   "source": [
    "def convertirACentigrados ( faren):\n",
    "    return (faren - 32) / 1.8\n"
   ]
  },
  {
   "cell_type": "code",
   "execution_count": 17,
   "id": "535af047",
   "metadata": {},
   "outputs": [],
   "source": [
    "temp_min = sales['Temperature'].min()\n",
    "temp_max = sales['Temperature'].max()"
   ]
  },
  {
   "cell_type": "code",
   "execution_count": 18,
   "id": "d50bd799",
   "metadata": {},
   "outputs": [
    {
     "name": "stdout",
     "output_type": "stream",
     "text": [
      "La tempertura -2.06 en Centigrados es -18.922222222222224\n",
      "La tempertura 100.14 en Centigrados es 37.855555555555554\n"
     ]
    }
   ],
   "source": [
    "print(f'La tempertura {temp_min} en Centigrados es {convertirACentigrados(temp_min)}')\n",
    "print(f'La tempertura {temp_max} en Centigrados es {convertirACentigrados(temp_max)}')"
   ]
  },
  {
   "cell_type": "code",
   "execution_count": 19,
   "id": "b929dddb",
   "metadata": {},
   "outputs": [],
   "source": [
    "sales['Temperature_Celsious'] =sales[['Temperature']].agg(convertirACentigrados)"
   ]
  },
  {
   "cell_type": "code",
   "execution_count": 20,
   "id": "078bf0d9",
   "metadata": {},
   "outputs": [],
   "source": [
    "sales_sort = sales.sort_values(['Temperature', 'Temperature_Celsious'], ascending=[True, True])"
   ]
  },
  {
   "cell_type": "code",
   "execution_count": 21,
   "id": "b2698cba",
   "metadata": {},
   "outputs": [
    {
     "data": {
      "text/html": [
       "<div>\n",
       "<style scoped>\n",
       "    .dataframe tbody tr th:only-of-type {\n",
       "        vertical-align: middle;\n",
       "    }\n",
       "\n",
       "    .dataframe tbody tr th {\n",
       "        vertical-align: top;\n",
       "    }\n",
       "\n",
       "    .dataframe thead th {\n",
       "        text-align: right;\n",
       "    }\n",
       "</style>\n",
       "<table border=\"1\" class=\"dataframe\">\n",
       "  <thead>\n",
       "    <tr style=\"text-align: right;\">\n",
       "      <th></th>\n",
       "      <th>Temperature</th>\n",
       "      <th>Temperature_Celsious</th>\n",
       "    </tr>\n",
       "  </thead>\n",
       "  <tbody>\n",
       "    <tr>\n",
       "      <th>910</th>\n",
       "      <td>-2.06</td>\n",
       "      <td>-18.922222</td>\n",
       "    </tr>\n",
       "    <tr>\n",
       "      <th>3626</th>\n",
       "      <td>5.54</td>\n",
       "      <td>-14.700000</td>\n",
       "    </tr>\n",
       "    <tr>\n",
       "      <th>2336</th>\n",
       "      <td>6.23</td>\n",
       "      <td>-14.316667</td>\n",
       "    </tr>\n",
       "    <tr>\n",
       "      <th>959</th>\n",
       "      <td>7.46</td>\n",
       "      <td>-13.633333</td>\n",
       "    </tr>\n",
       "    <tr>\n",
       "      <th>5628</th>\n",
       "      <td>9.51</td>\n",
       "      <td>-12.494444</td>\n",
       "    </tr>\n",
       "    <tr>\n",
       "      <th>...</th>\n",
       "      <td>...</td>\n",
       "      <td>...</td>\n",
       "    </tr>\n",
       "    <tr>\n",
       "      <th>3885</th>\n",
       "      <td>99.22</td>\n",
       "      <td>37.344444</td>\n",
       "    </tr>\n",
       "    <tr>\n",
       "      <th>5315</th>\n",
       "      <td>99.22</td>\n",
       "      <td>37.344444</td>\n",
       "    </tr>\n",
       "    <tr>\n",
       "      <th>4657</th>\n",
       "      <td>99.66</td>\n",
       "      <td>37.588889</td>\n",
       "    </tr>\n",
       "    <tr>\n",
       "      <th>4707</th>\n",
       "      <td>100.07</td>\n",
       "      <td>37.816667</td>\n",
       "    </tr>\n",
       "    <tr>\n",
       "      <th>4599</th>\n",
       "      <td>100.14</td>\n",
       "      <td>37.855556</td>\n",
       "    </tr>\n",
       "  </tbody>\n",
       "</table>\n",
       "<p>6435 rows × 2 columns</p>\n",
       "</div>"
      ],
      "text/plain": [
       "      Temperature  Temperature_Celsious\n",
       "910         -2.06            -18.922222\n",
       "3626         5.54            -14.700000\n",
       "2336         6.23            -14.316667\n",
       "959          7.46            -13.633333\n",
       "5628         9.51            -12.494444\n",
       "...           ...                   ...\n",
       "3885        99.22             37.344444\n",
       "5315        99.22             37.344444\n",
       "4657        99.66             37.588889\n",
       "4707       100.07             37.816667\n",
       "4599       100.14             37.855556\n",
       "\n",
       "[6435 rows x 2 columns]"
      ]
     },
     "execution_count": 21,
     "metadata": {},
     "output_type": "execute_result"
    }
   ],
   "source": [
    "sales_sort[['Temperature', 'Temperature_Celsious']]"
   ]
  },
  {
   "cell_type": "code",
   "execution_count": 22,
   "id": "74f642ab",
   "metadata": {},
   "outputs": [
    {
     "data": {
      "text/plain": [
       "910      -2.06\n",
       "3626      5.54\n",
       "2336      6.23\n",
       "959       7.46\n",
       "5628      9.51\n",
       "         ...  \n",
       "5315     99.22\n",
       "1597     99.22\n",
       "4657     99.66\n",
       "4707    100.07\n",
       "4599    100.14\n",
       "Name: Temperature, Length: 6435, dtype: float64"
      ]
     },
     "execution_count": 22,
     "metadata": {},
     "output_type": "execute_result"
    }
   ],
   "source": [
    "sales['Temperature'].sort_values()"
   ]
  },
  {
   "cell_type": "code",
   "execution_count": 23,
   "id": "85e9a6e0",
   "metadata": {},
   "outputs": [],
   "source": [
    "import numpy as np"
   ]
  },
  {
   "cell_type": "code",
   "execution_count": 24,
   "id": "97c2175b",
   "metadata": {},
   "outputs": [
    {
     "name": "stdout",
     "output_type": "stream",
     "text": [
      "74.94\n",
      "47.46\n",
      "27.479999999999997\n",
      "mean       60.663782\n",
      "median     62.670000\n",
      "max       100.140000\n",
      "min        -2.060000\n",
      "Name: Temperature, dtype: float64\n"
     ]
    }
   ],
   "source": [
    "# Funcion personalizada que calcula el IQR\n",
    "\n",
    "def iqr(column):\n",
    "    return column.quantile(0.75) - column.quantile(0.25)\n",
    "\n",
    "# Imprimir IQR de la columna Temperature\n",
    "print(sales['Temperature'].quantile(0.75))\n",
    "print(sales['Temperature'].quantile(0.25))\n",
    "print(sales['Temperature'].agg(iqr))\n",
    "\n",
    "print(sales['Temperature'].agg(['mean','median','max','min']))\n"
   ]
  },
  {
   "cell_type": "markdown",
   "id": "3363fc8a",
   "metadata": {},
   "source": [
    "# Estadísticas acumuladas\n",
    "\n",
    "Las estadísticas acumulativas también pueden ser útiles para hacer un seguimiento de las estadísticas resumidas a lo largo del tiempo. En este ejercicio, calcularás la suma acumulada y el máximo acumulado de las ventas semanales de un departamento, lo que te permitirá identificar cuáles han sido las ventas totales hasta el momento, así como cuáles han sido las ventas semanales más elevadas hasta el momento.\n",
    "\n",
    "**Instrucciones**\n",
    "\n",
    "- Ordena las filas de sales_1_1 por la columna date en orden ascendente.\n",
    "- Obtén la suma acumulada de weekly_sales y añádelo como una nueva columna de sales_1_1 llamada cum_weekly_sales.\n",
    "- Obtén el máximo acumulado de weekly_sales, y añádelo como una columna llamada cum_max_sales.\n",
    "- Imprime las columnas date, weekly_sales, cum_weekly_sales, y cum_max_sales."
   ]
  },
  {
   "cell_type": "code",
   "execution_count": 27,
   "id": "2dd1608c",
   "metadata": {},
   "outputs": [
    {
     "data": {
      "text/plain": [
       "(143, 10)"
      ]
     },
     "execution_count": 27,
     "metadata": {},
     "output_type": "execute_result"
    }
   ],
   "source": [
    "sales_1_1.shape"
   ]
  },
  {
   "cell_type": "code",
   "execution_count": 26,
   "id": "3019e3e0",
   "metadata": {},
   "outputs": [],
   "source": [
    "# Mostrar las que la store tenga sea 1\n",
    "sales_1_1 =  sales[sales['Store']==1]\n",
    "\n",
    "# Ordenar sales_1_1 por fecha\n",
    "sales_1_1 = sales_1_1.sort_values('Date')\n",
    "\n",
    "# Obtener la suma acumulativa de weekly_sales y agregar una columna llamada cum_weekly_sales\n",
    "sales_1_1['cum_Weekly_sales'] = sales_1_1['Weekly_Sales'].cumsum()"
   ]
  },
  {
   "cell_type": "code",
   "execution_count": 28,
   "id": "e9c62bb5",
   "metadata": {},
   "outputs": [
    {
     "data": {
      "text/html": [
       "<div>\n",
       "<style scoped>\n",
       "    .dataframe tbody tr th:only-of-type {\n",
       "        vertical-align: middle;\n",
       "    }\n",
       "\n",
       "    .dataframe tbody tr th {\n",
       "        vertical-align: top;\n",
       "    }\n",
       "\n",
       "    .dataframe thead th {\n",
       "        text-align: right;\n",
       "    }\n",
       "</style>\n",
       "<table border=\"1\" class=\"dataframe\">\n",
       "  <thead>\n",
       "    <tr style=\"text-align: right;\">\n",
       "      <th></th>\n",
       "      <th>Weekly_Sales</th>\n",
       "      <th>cum_Weekly_sales</th>\n",
       "    </tr>\n",
       "  </thead>\n",
       "  <tbody>\n",
       "    <tr>\n",
       "      <th>60</th>\n",
       "      <td>1495064.75</td>\n",
       "      <td>1495064.75</td>\n",
       "    </tr>\n",
       "    <tr>\n",
       "      <th>121</th>\n",
       "      <td>1624477.58</td>\n",
       "      <td>3119542.33</td>\n",
       "    </tr>\n",
       "    <tr>\n",
       "      <th>73</th>\n",
       "      <td>1488538.09</td>\n",
       "      <td>4608080.42</td>\n",
       "    </tr>\n",
       "    <tr>\n",
       "      <th>34</th>\n",
       "      <td>1453329.50</td>\n",
       "      <td>6061409.92</td>\n",
       "    </tr>\n",
       "    <tr>\n",
       "      <th>108</th>\n",
       "      <td>1688420.76</td>\n",
       "      <td>7749830.68</td>\n",
       "    </tr>\n",
       "  </tbody>\n",
       "</table>\n",
       "</div>"
      ],
      "text/plain": [
       "     Weekly_Sales  cum_Weekly_sales\n",
       "60     1495064.75        1495064.75\n",
       "121    1624477.58        3119542.33\n",
       "73     1488538.09        4608080.42\n",
       "34     1453329.50        6061409.92\n",
       "108    1688420.76        7749830.68"
      ]
     },
     "execution_count": 28,
     "metadata": {},
     "output_type": "execute_result"
    }
   ],
   "source": [
    "sales_1_1[['Weekly_Sales','cum_Weekly_sales']].head(5)"
   ]
  },
  {
   "cell_type": "code",
   "execution_count": 29,
   "id": "43a1aa81",
   "metadata": {},
   "outputs": [
    {
     "data": {
      "text/html": [
       "<div>\n",
       "<style scoped>\n",
       "    .dataframe tbody tr th:only-of-type {\n",
       "        vertical-align: middle;\n",
       "    }\n",
       "\n",
       "    .dataframe tbody tr th {\n",
       "        vertical-align: top;\n",
       "    }\n",
       "\n",
       "    .dataframe thead th {\n",
       "        text-align: right;\n",
       "    }\n",
       "</style>\n",
       "<table border=\"1\" class=\"dataframe\">\n",
       "  <thead>\n",
       "    <tr style=\"text-align: right;\">\n",
       "      <th></th>\n",
       "      <th>Store</th>\n",
       "      <th>Date</th>\n",
       "      <th>Weekly_Sales</th>\n",
       "      <th>Holiday_Flag</th>\n",
       "      <th>Temperature</th>\n",
       "      <th>Fuel_Price</th>\n",
       "      <th>CPI</th>\n",
       "      <th>Unemployment</th>\n",
       "      <th>Temperature_Celsious</th>\n",
       "      <th>cum_Weekly_sales</th>\n",
       "    </tr>\n",
       "  </thead>\n",
       "  <tbody>\n",
       "    <tr>\n",
       "      <th>60</th>\n",
       "      <td>1</td>\n",
       "      <td>01-04-2011</td>\n",
       "      <td>1495064.75</td>\n",
       "      <td>0</td>\n",
       "      <td>59.17</td>\n",
       "      <td>3.524</td>\n",
       "      <td>214.837166</td>\n",
       "      <td>7.682</td>\n",
       "      <td>15.094444</td>\n",
       "      <td>1495064.75</td>\n",
       "    </tr>\n",
       "    <tr>\n",
       "      <th>121</th>\n",
       "      <td>1</td>\n",
       "      <td>01-06-2012</td>\n",
       "      <td>1624477.58</td>\n",
       "      <td>0</td>\n",
       "      <td>77.95</td>\n",
       "      <td>3.501</td>\n",
       "      <td>221.747214</td>\n",
       "      <td>7.143</td>\n",
       "      <td>25.527778</td>\n",
       "      <td>3119542.33</td>\n",
       "    </tr>\n",
       "    <tr>\n",
       "      <th>73</th>\n",
       "      <td>1</td>\n",
       "      <td>01-07-2011</td>\n",
       "      <td>1488538.09</td>\n",
       "      <td>0</td>\n",
       "      <td>85.55</td>\n",
       "      <td>3.524</td>\n",
       "      <td>215.184137</td>\n",
       "      <td>7.962</td>\n",
       "      <td>29.750000</td>\n",
       "      <td>4608080.42</td>\n",
       "    </tr>\n",
       "    <tr>\n",
       "      <th>34</th>\n",
       "      <td>1</td>\n",
       "      <td>01-10-2010</td>\n",
       "      <td>1453329.50</td>\n",
       "      <td>0</td>\n",
       "      <td>71.89</td>\n",
       "      <td>2.603</td>\n",
       "      <td>211.671989</td>\n",
       "      <td>7.838</td>\n",
       "      <td>22.161111</td>\n",
       "      <td>6061409.92</td>\n",
       "    </tr>\n",
       "    <tr>\n",
       "      <th>108</th>\n",
       "      <td>1</td>\n",
       "      <td>02-03-2012</td>\n",
       "      <td>1688420.76</td>\n",
       "      <td>0</td>\n",
       "      <td>60.96</td>\n",
       "      <td>3.630</td>\n",
       "      <td>220.848045</td>\n",
       "      <td>7.348</td>\n",
       "      <td>16.088889</td>\n",
       "      <td>7749830.68</td>\n",
       "    </tr>\n",
       "  </tbody>\n",
       "</table>\n",
       "</div>"
      ],
      "text/plain": [
       "     Store        Date  Weekly_Sales  Holiday_Flag  Temperature  Fuel_Price  \\\n",
       "60       1  01-04-2011    1495064.75             0        59.17       3.524   \n",
       "121      1  01-06-2012    1624477.58             0        77.95       3.501   \n",
       "73       1  01-07-2011    1488538.09             0        85.55       3.524   \n",
       "34       1  01-10-2010    1453329.50             0        71.89       2.603   \n",
       "108      1  02-03-2012    1688420.76             0        60.96       3.630   \n",
       "\n",
       "            CPI  Unemployment  Temperature_Celsious  cum_Weekly_sales  \n",
       "60   214.837166         7.682             15.094444        1495064.75  \n",
       "121  221.747214         7.143             25.527778        3119542.33  \n",
       "73   215.184137         7.962             29.750000        4608080.42  \n",
       "34   211.671989         7.838             22.161111        6061409.92  \n",
       "108  220.848045         7.348             16.088889        7749830.68  "
      ]
     },
     "execution_count": 29,
     "metadata": {},
     "output_type": "execute_result"
    }
   ],
   "source": [
    "sales_1_1.head(5)"
   ]
  },
  {
   "cell_type": "code",
   "execution_count": 31,
   "id": "f7234ee5",
   "metadata": {},
   "outputs": [
    {
     "data": {
      "text/html": [
       "<div>\n",
       "<style scoped>\n",
       "    .dataframe tbody tr th:only-of-type {\n",
       "        vertical-align: middle;\n",
       "    }\n",
       "\n",
       "    .dataframe tbody tr th {\n",
       "        vertical-align: top;\n",
       "    }\n",
       "\n",
       "    .dataframe thead th {\n",
       "        text-align: right;\n",
       "    }\n",
       "</style>\n",
       "<table border=\"1\" class=\"dataframe\">\n",
       "  <thead>\n",
       "    <tr style=\"text-align: right;\">\n",
       "      <th></th>\n",
       "      <th>Store</th>\n",
       "      <th>Date</th>\n",
       "      <th>Weekly_Sales</th>\n",
       "      <th>Holiday_Flag</th>\n",
       "      <th>Temperature</th>\n",
       "      <th>Fuel_Price</th>\n",
       "      <th>CPI</th>\n",
       "      <th>Unemployment</th>\n",
       "      <th>Temperature_Celsious</th>\n",
       "      <th>cum_Weekly_sales</th>\n",
       "      <th>cum_max_sales</th>\n",
       "    </tr>\n",
       "  </thead>\n",
       "  <tbody>\n",
       "    <tr>\n",
       "      <th>60</th>\n",
       "      <td>1</td>\n",
       "      <td>01-04-2011</td>\n",
       "      <td>1495064.75</td>\n",
       "      <td>0</td>\n",
       "      <td>59.17</td>\n",
       "      <td>3.524</td>\n",
       "      <td>214.837166</td>\n",
       "      <td>7.682</td>\n",
       "      <td>15.094444</td>\n",
       "      <td>1495064.75</td>\n",
       "      <td>1495064.75</td>\n",
       "    </tr>\n",
       "    <tr>\n",
       "      <th>121</th>\n",
       "      <td>1</td>\n",
       "      <td>01-06-2012</td>\n",
       "      <td>1624477.58</td>\n",
       "      <td>0</td>\n",
       "      <td>77.95</td>\n",
       "      <td>3.501</td>\n",
       "      <td>221.747214</td>\n",
       "      <td>7.143</td>\n",
       "      <td>25.527778</td>\n",
       "      <td>3119542.33</td>\n",
       "      <td>1624477.58</td>\n",
       "    </tr>\n",
       "    <tr>\n",
       "      <th>73</th>\n",
       "      <td>1</td>\n",
       "      <td>01-07-2011</td>\n",
       "      <td>1488538.09</td>\n",
       "      <td>0</td>\n",
       "      <td>85.55</td>\n",
       "      <td>3.524</td>\n",
       "      <td>215.184137</td>\n",
       "      <td>7.962</td>\n",
       "      <td>29.750000</td>\n",
       "      <td>4608080.42</td>\n",
       "      <td>1624477.58</td>\n",
       "    </tr>\n",
       "    <tr>\n",
       "      <th>34</th>\n",
       "      <td>1</td>\n",
       "      <td>01-10-2010</td>\n",
       "      <td>1453329.50</td>\n",
       "      <td>0</td>\n",
       "      <td>71.89</td>\n",
       "      <td>2.603</td>\n",
       "      <td>211.671989</td>\n",
       "      <td>7.838</td>\n",
       "      <td>22.161111</td>\n",
       "      <td>6061409.92</td>\n",
       "      <td>1624477.58</td>\n",
       "    </tr>\n",
       "    <tr>\n",
       "      <th>108</th>\n",
       "      <td>1</td>\n",
       "      <td>02-03-2012</td>\n",
       "      <td>1688420.76</td>\n",
       "      <td>0</td>\n",
       "      <td>60.96</td>\n",
       "      <td>3.630</td>\n",
       "      <td>220.848045</td>\n",
       "      <td>7.348</td>\n",
       "      <td>16.088889</td>\n",
       "      <td>7749830.68</td>\n",
       "      <td>1688420.76</td>\n",
       "    </tr>\n",
       "  </tbody>\n",
       "</table>\n",
       "</div>"
      ],
      "text/plain": [
       "     Store        Date  Weekly_Sales  Holiday_Flag  Temperature  Fuel_Price  \\\n",
       "60       1  01-04-2011    1495064.75             0        59.17       3.524   \n",
       "121      1  01-06-2012    1624477.58             0        77.95       3.501   \n",
       "73       1  01-07-2011    1488538.09             0        85.55       3.524   \n",
       "34       1  01-10-2010    1453329.50             0        71.89       2.603   \n",
       "108      1  02-03-2012    1688420.76             0        60.96       3.630   \n",
       "\n",
       "            CPI  Unemployment  Temperature_Celsious  cum_Weekly_sales  \\\n",
       "60   214.837166         7.682             15.094444        1495064.75   \n",
       "121  221.747214         7.143             25.527778        3119542.33   \n",
       "73   215.184137         7.962             29.750000        4608080.42   \n",
       "34   211.671989         7.838             22.161111        6061409.92   \n",
       "108  220.848045         7.348             16.088889        7749830.68   \n",
       "\n",
       "     cum_max_sales  \n",
       "60      1495064.75  \n",
       "121     1624477.58  \n",
       "73      1624477.58  \n",
       "34      1624477.58  \n",
       "108     1688420.76  "
      ]
     },
     "execution_count": 31,
     "metadata": {},
     "output_type": "execute_result"
    }
   ],
   "source": [
    "# Obtener el maximo acumulativo de weekly_sales y agregar\n",
    "# cum_max_sales\n",
    "\n",
    "sales_1_1['cum_max_sales'] = sales_1_1['Weekly_Sales'].cummax()\n",
    "sales_1_1.head()"
   ]
  },
  {
   "cell_type": "code",
   "execution_count": 35,
   "id": "2670454b",
   "metadata": {},
   "outputs": [
    {
     "data": {
      "text/html": [
       "<div>\n",
       "<style scoped>\n",
       "    .dataframe tbody tr th:only-of-type {\n",
       "        vertical-align: middle;\n",
       "    }\n",
       "\n",
       "    .dataframe tbody tr th {\n",
       "        vertical-align: top;\n",
       "    }\n",
       "\n",
       "    .dataframe thead th {\n",
       "        text-align: right;\n",
       "    }\n",
       "</style>\n",
       "<table border=\"1\" class=\"dataframe\">\n",
       "  <thead>\n",
       "    <tr style=\"text-align: right;\">\n",
       "      <th></th>\n",
       "      <th>Date</th>\n",
       "      <th>Weekly_Sales</th>\n",
       "      <th>cum_Weekly_sales</th>\n",
       "      <th>cum_max_sales</th>\n",
       "    </tr>\n",
       "  </thead>\n",
       "  <tbody>\n",
       "    <tr>\n",
       "      <th>60</th>\n",
       "      <td>01-04-2011</td>\n",
       "      <td>1495064.75</td>\n",
       "      <td>1.495065e+06</td>\n",
       "      <td>1495064.75</td>\n",
       "    </tr>\n",
       "    <tr>\n",
       "      <th>121</th>\n",
       "      <td>01-06-2012</td>\n",
       "      <td>1624477.58</td>\n",
       "      <td>3.119542e+06</td>\n",
       "      <td>1624477.58</td>\n",
       "    </tr>\n",
       "    <tr>\n",
       "      <th>73</th>\n",
       "      <td>01-07-2011</td>\n",
       "      <td>1488538.09</td>\n",
       "      <td>4.608080e+06</td>\n",
       "      <td>1624477.58</td>\n",
       "    </tr>\n",
       "    <tr>\n",
       "      <th>34</th>\n",
       "      <td>01-10-2010</td>\n",
       "      <td>1453329.50</td>\n",
       "      <td>6.061410e+06</td>\n",
       "      <td>1624477.58</td>\n",
       "    </tr>\n",
       "    <tr>\n",
       "      <th>108</th>\n",
       "      <td>02-03-2012</td>\n",
       "      <td>1688420.76</td>\n",
       "      <td>7.749831e+06</td>\n",
       "      <td>1688420.76</td>\n",
       "    </tr>\n",
       "    <tr>\n",
       "      <th>...</th>\n",
       "      <td>...</td>\n",
       "      <td>...</td>\n",
       "      <td>...</td>\n",
       "      <td>...</td>\n",
       "    </tr>\n",
       "    <tr>\n",
       "      <th>25</th>\n",
       "      <td>30-07-2010</td>\n",
       "      <td>1371986.60</td>\n",
       "      <td>2.165614e+08</td>\n",
       "      <td>2387950.20</td>\n",
       "    </tr>\n",
       "    <tr>\n",
       "      <th>86</th>\n",
       "      <td>30-09-2011</td>\n",
       "      <td>1394561.83</td>\n",
       "      <td>2.179559e+08</td>\n",
       "      <td>2387950.20</td>\n",
       "    </tr>\n",
       "    <tr>\n",
       "      <th>99</th>\n",
       "      <td>30-12-2011</td>\n",
       "      <td>1497462.72</td>\n",
       "      <td>2.194534e+08</td>\n",
       "      <td>2387950.20</td>\n",
       "    </tr>\n",
       "    <tr>\n",
       "      <th>134</th>\n",
       "      <td>31-08-2012</td>\n",
       "      <td>1582083.40</td>\n",
       "      <td>2.210355e+08</td>\n",
       "      <td>2387950.20</td>\n",
       "    </tr>\n",
       "    <tr>\n",
       "      <th>47</th>\n",
       "      <td>31-12-2010</td>\n",
       "      <td>1367320.01</td>\n",
       "      <td>2.224028e+08</td>\n",
       "      <td>2387950.20</td>\n",
       "    </tr>\n",
       "  </tbody>\n",
       "</table>\n",
       "<p>143 rows × 4 columns</p>\n",
       "</div>"
      ],
      "text/plain": [
       "           Date  Weekly_Sales  cum_Weekly_sales  cum_max_sales\n",
       "60   01-04-2011    1495064.75      1.495065e+06     1495064.75\n",
       "121  01-06-2012    1624477.58      3.119542e+06     1624477.58\n",
       "73   01-07-2011    1488538.09      4.608080e+06     1624477.58\n",
       "34   01-10-2010    1453329.50      6.061410e+06     1624477.58\n",
       "108  02-03-2012    1688420.76      7.749831e+06     1688420.76\n",
       "..          ...           ...               ...            ...\n",
       "25   30-07-2010    1371986.60      2.165614e+08     2387950.20\n",
       "86   30-09-2011    1394561.83      2.179559e+08     2387950.20\n",
       "99   30-12-2011    1497462.72      2.194534e+08     2387950.20\n",
       "134  31-08-2012    1582083.40      2.210355e+08     2387950.20\n",
       "47   31-12-2010    1367320.01      2.224028e+08     2387950.20\n",
       "\n",
       "[143 rows x 4 columns]"
      ]
     },
     "execution_count": 35,
     "metadata": {},
     "output_type": "execute_result"
    }
   ],
   "source": [
    "# Mostrar las columnas calculadas\n",
    "sales_1_1[['Date', 'Weekly_Sales', 'cum_Weekly_sales', 'cum_max_sales']]"
   ]
  },
  {
   "cell_type": "markdown",
   "id": "e61f7c65",
   "metadata": {},
   "source": [
    "## Recuento\n",
    "\n",
    "Eliminar duplicados es una habilidad esencial para obtener recuentos precisos, porque a menudo no quieres contar lo mismo varias veces. En este ejercicio, crearás algunos DataFrames nuevos utilizando valores únicos de sales.\n",
    "\n",
    "**Instrucciones**\n",
    "\n",
    "- Elimina las filas de sales con pares duplicados de store y type y guárdalas como store_types e imprime la cabecera.\n",
    "- Elimina las filas de sales con pares duplicados de store y department y guárdalas como store_depts e imprime la cabecera.\n",
    "- Subconjunta las filas que sean semanas de vacaciones utilizando la columna is_holiday, y elimina las dates duplicadas, guardándolas como holiday_dates.\n",
    "- Selecciona la columna date de holiday_dates, e imprímela."
   ]
  },
  {
   "cell_type": "code",
   "execution_count": 43,
   "id": "c87a8e29",
   "metadata": {},
   "outputs": [],
   "source": [
    "import pandas as pd\n",
    "sales_sub = pd.read_csv('./Data/sales_subset.csv', index_col=0)"
   ]
  },
  {
   "cell_type": "code",
   "execution_count": 44,
   "id": "4b9e8b47",
   "metadata": {},
   "outputs": [
    {
     "data": {
      "text/html": [
       "<div>\n",
       "<style scoped>\n",
       "    .dataframe tbody tr th:only-of-type {\n",
       "        vertical-align: middle;\n",
       "    }\n",
       "\n",
       "    .dataframe tbody tr th {\n",
       "        vertical-align: top;\n",
       "    }\n",
       "\n",
       "    .dataframe thead th {\n",
       "        text-align: right;\n",
       "    }\n",
       "</style>\n",
       "<table border=\"1\" class=\"dataframe\">\n",
       "  <thead>\n",
       "    <tr style=\"text-align: right;\">\n",
       "      <th></th>\n",
       "      <th>store</th>\n",
       "      <th>type</th>\n",
       "      <th>department</th>\n",
       "      <th>date</th>\n",
       "      <th>weekly_sales</th>\n",
       "      <th>is_holiday</th>\n",
       "      <th>temperature_c</th>\n",
       "      <th>fuel_price_usd_per_l</th>\n",
       "      <th>unemployment</th>\n",
       "    </tr>\n",
       "  </thead>\n",
       "  <tbody>\n",
       "    <tr>\n",
       "      <th>0</th>\n",
       "      <td>1</td>\n",
       "      <td>A</td>\n",
       "      <td>1</td>\n",
       "      <td>2010-02-05</td>\n",
       "      <td>24924.50</td>\n",
       "      <td>False</td>\n",
       "      <td>5.727778</td>\n",
       "      <td>0.679451</td>\n",
       "      <td>8.106</td>\n",
       "    </tr>\n",
       "    <tr>\n",
       "      <th>1</th>\n",
       "      <td>1</td>\n",
       "      <td>A</td>\n",
       "      <td>1</td>\n",
       "      <td>2010-03-05</td>\n",
       "      <td>21827.90</td>\n",
       "      <td>False</td>\n",
       "      <td>8.055556</td>\n",
       "      <td>0.693452</td>\n",
       "      <td>8.106</td>\n",
       "    </tr>\n",
       "    <tr>\n",
       "      <th>2</th>\n",
       "      <td>1</td>\n",
       "      <td>A</td>\n",
       "      <td>1</td>\n",
       "      <td>2010-04-02</td>\n",
       "      <td>57258.43</td>\n",
       "      <td>False</td>\n",
       "      <td>16.816667</td>\n",
       "      <td>0.718284</td>\n",
       "      <td>7.808</td>\n",
       "    </tr>\n",
       "    <tr>\n",
       "      <th>3</th>\n",
       "      <td>1</td>\n",
       "      <td>A</td>\n",
       "      <td>1</td>\n",
       "      <td>2010-05-07</td>\n",
       "      <td>17413.94</td>\n",
       "      <td>False</td>\n",
       "      <td>22.527778</td>\n",
       "      <td>0.748928</td>\n",
       "      <td>7.808</td>\n",
       "    </tr>\n",
       "    <tr>\n",
       "      <th>4</th>\n",
       "      <td>1</td>\n",
       "      <td>A</td>\n",
       "      <td>1</td>\n",
       "      <td>2010-06-04</td>\n",
       "      <td>17558.09</td>\n",
       "      <td>False</td>\n",
       "      <td>27.050000</td>\n",
       "      <td>0.714586</td>\n",
       "      <td>7.808</td>\n",
       "    </tr>\n",
       "  </tbody>\n",
       "</table>\n",
       "</div>"
      ],
      "text/plain": [
       "   store type  department        date  weekly_sales  is_holiday  \\\n",
       "0      1    A           1  2010-02-05      24924.50       False   \n",
       "1      1    A           1  2010-03-05      21827.90       False   \n",
       "2      1    A           1  2010-04-02      57258.43       False   \n",
       "3      1    A           1  2010-05-07      17413.94       False   \n",
       "4      1    A           1  2010-06-04      17558.09       False   \n",
       "\n",
       "   temperature_c  fuel_price_usd_per_l  unemployment  \n",
       "0       5.727778              0.679451         8.106  \n",
       "1       8.055556              0.693452         8.106  \n",
       "2      16.816667              0.718284         7.808  \n",
       "3      22.527778              0.748928         7.808  \n",
       "4      27.050000              0.714586         7.808  "
      ]
     },
     "execution_count": 44,
     "metadata": {},
     "output_type": "execute_result"
    }
   ],
   "source": [
    "sales_sub.head()"
   ]
  },
  {
   "cell_type": "code",
   "execution_count": 45,
   "id": "4c6fe340",
   "metadata": {},
   "outputs": [
    {
     "data": {
      "text/plain": [
       "(10774, 9)"
      ]
     },
     "execution_count": 45,
     "metadata": {},
     "output_type": "execute_result"
    }
   ],
   "source": [
    "sales_sub.shape"
   ]
  },
  {
   "cell_type": "code",
   "execution_count": 46,
   "id": "0c233dd5",
   "metadata": {},
   "outputs": [
    {
     "data": {
      "text/html": [
       "<div>\n",
       "<style scoped>\n",
       "    .dataframe tbody tr th:only-of-type {\n",
       "        vertical-align: middle;\n",
       "    }\n",
       "\n",
       "    .dataframe tbody tr th {\n",
       "        vertical-align: top;\n",
       "    }\n",
       "\n",
       "    .dataframe thead th {\n",
       "        text-align: right;\n",
       "    }\n",
       "</style>\n",
       "<table border=\"1\" class=\"dataframe\">\n",
       "  <thead>\n",
       "    <tr style=\"text-align: right;\">\n",
       "      <th></th>\n",
       "      <th>store</th>\n",
       "      <th>type</th>\n",
       "      <th>department</th>\n",
       "      <th>date</th>\n",
       "      <th>weekly_sales</th>\n",
       "      <th>is_holiday</th>\n",
       "      <th>temperature_c</th>\n",
       "      <th>fuel_price_usd_per_l</th>\n",
       "      <th>unemployment</th>\n",
       "    </tr>\n",
       "  </thead>\n",
       "  <tbody>\n",
       "    <tr>\n",
       "      <th>0</th>\n",
       "      <td>1</td>\n",
       "      <td>A</td>\n",
       "      <td>1</td>\n",
       "      <td>2010-02-05</td>\n",
       "      <td>24924.50</td>\n",
       "      <td>False</td>\n",
       "      <td>5.727778</td>\n",
       "      <td>0.679451</td>\n",
       "      <td>8.106</td>\n",
       "    </tr>\n",
       "    <tr>\n",
       "      <th>901</th>\n",
       "      <td>2</td>\n",
       "      <td>A</td>\n",
       "      <td>1</td>\n",
       "      <td>2010-02-05</td>\n",
       "      <td>35034.06</td>\n",
       "      <td>False</td>\n",
       "      <td>4.550000</td>\n",
       "      <td>0.679451</td>\n",
       "      <td>8.324</td>\n",
       "    </tr>\n",
       "    <tr>\n",
       "      <th>1798</th>\n",
       "      <td>4</td>\n",
       "      <td>A</td>\n",
       "      <td>1</td>\n",
       "      <td>2010-02-05</td>\n",
       "      <td>38724.42</td>\n",
       "      <td>False</td>\n",
       "      <td>6.533333</td>\n",
       "      <td>0.686319</td>\n",
       "      <td>8.623</td>\n",
       "    </tr>\n",
       "    <tr>\n",
       "      <th>2699</th>\n",
       "      <td>6</td>\n",
       "      <td>A</td>\n",
       "      <td>1</td>\n",
       "      <td>2010-02-05</td>\n",
       "      <td>25619.00</td>\n",
       "      <td>False</td>\n",
       "      <td>4.683333</td>\n",
       "      <td>0.679451</td>\n",
       "      <td>7.259</td>\n",
       "    </tr>\n",
       "    <tr>\n",
       "      <th>3593</th>\n",
       "      <td>10</td>\n",
       "      <td>B</td>\n",
       "      <td>1</td>\n",
       "      <td>2010-02-05</td>\n",
       "      <td>40212.84</td>\n",
       "      <td>False</td>\n",
       "      <td>12.411111</td>\n",
       "      <td>0.782478</td>\n",
       "      <td>9.765</td>\n",
       "    </tr>\n",
       "  </tbody>\n",
       "</table>\n",
       "</div>"
      ],
      "text/plain": [
       "      store type  department        date  weekly_sales  is_holiday  \\\n",
       "0         1    A           1  2010-02-05      24924.50       False   \n",
       "901       2    A           1  2010-02-05      35034.06       False   \n",
       "1798      4    A           1  2010-02-05      38724.42       False   \n",
       "2699      6    A           1  2010-02-05      25619.00       False   \n",
       "3593     10    B           1  2010-02-05      40212.84       False   \n",
       "\n",
       "      temperature_c  fuel_price_usd_per_l  unemployment  \n",
       "0          5.727778              0.679451         8.106  \n",
       "901        4.550000              0.679451         8.324  \n",
       "1798       6.533333              0.686319         8.623  \n",
       "2699       4.683333              0.679451         7.259  \n",
       "3593      12.411111              0.782478         9.765  "
      ]
     },
     "execution_count": 46,
     "metadata": {},
     "output_type": "execute_result"
    }
   ],
   "source": [
    "# Eliminar (drop) a la combinacion de duplicados de store/type\n",
    "store_types = sales_sub.drop_duplicates(subset=['store', 'type'])\n",
    "store_types.head()\n"
   ]
  },
  {
   "cell_type": "code",
   "execution_count": 47,
   "id": "da6b9ffa",
   "metadata": {},
   "outputs": [
    {
     "data": {
      "text/html": [
       "<div>\n",
       "<style scoped>\n",
       "    .dataframe tbody tr th:only-of-type {\n",
       "        vertical-align: middle;\n",
       "    }\n",
       "\n",
       "    .dataframe tbody tr th {\n",
       "        vertical-align: top;\n",
       "    }\n",
       "\n",
       "    .dataframe thead th {\n",
       "        text-align: right;\n",
       "    }\n",
       "</style>\n",
       "<table border=\"1\" class=\"dataframe\">\n",
       "  <thead>\n",
       "    <tr style=\"text-align: right;\">\n",
       "      <th></th>\n",
       "      <th>store</th>\n",
       "      <th>type</th>\n",
       "      <th>department</th>\n",
       "      <th>date</th>\n",
       "      <th>weekly_sales</th>\n",
       "      <th>is_holiday</th>\n",
       "      <th>temperature_c</th>\n",
       "      <th>fuel_price_usd_per_l</th>\n",
       "      <th>unemployment</th>\n",
       "    </tr>\n",
       "  </thead>\n",
       "  <tbody>\n",
       "    <tr>\n",
       "      <th>0</th>\n",
       "      <td>1</td>\n",
       "      <td>A</td>\n",
       "      <td>1</td>\n",
       "      <td>2010-02-05</td>\n",
       "      <td>24924.50</td>\n",
       "      <td>False</td>\n",
       "      <td>5.727778</td>\n",
       "      <td>0.679451</td>\n",
       "      <td>8.106</td>\n",
       "    </tr>\n",
       "    <tr>\n",
       "      <th>12</th>\n",
       "      <td>1</td>\n",
       "      <td>A</td>\n",
       "      <td>2</td>\n",
       "      <td>2010-02-05</td>\n",
       "      <td>50605.27</td>\n",
       "      <td>False</td>\n",
       "      <td>5.727778</td>\n",
       "      <td>0.679451</td>\n",
       "      <td>8.106</td>\n",
       "    </tr>\n",
       "    <tr>\n",
       "      <th>24</th>\n",
       "      <td>1</td>\n",
       "      <td>A</td>\n",
       "      <td>3</td>\n",
       "      <td>2010-02-05</td>\n",
       "      <td>13740.12</td>\n",
       "      <td>False</td>\n",
       "      <td>5.727778</td>\n",
       "      <td>0.679451</td>\n",
       "      <td>8.106</td>\n",
       "    </tr>\n",
       "    <tr>\n",
       "      <th>36</th>\n",
       "      <td>1</td>\n",
       "      <td>A</td>\n",
       "      <td>4</td>\n",
       "      <td>2010-02-05</td>\n",
       "      <td>39954.04</td>\n",
       "      <td>False</td>\n",
       "      <td>5.727778</td>\n",
       "      <td>0.679451</td>\n",
       "      <td>8.106</td>\n",
       "    </tr>\n",
       "    <tr>\n",
       "      <th>48</th>\n",
       "      <td>1</td>\n",
       "      <td>A</td>\n",
       "      <td>5</td>\n",
       "      <td>2010-02-05</td>\n",
       "      <td>32229.38</td>\n",
       "      <td>False</td>\n",
       "      <td>5.727778</td>\n",
       "      <td>0.679451</td>\n",
       "      <td>8.106</td>\n",
       "    </tr>\n",
       "  </tbody>\n",
       "</table>\n",
       "</div>"
      ],
      "text/plain": [
       "    store type  department        date  weekly_sales  is_holiday  \\\n",
       "0       1    A           1  2010-02-05      24924.50       False   \n",
       "12      1    A           2  2010-02-05      50605.27       False   \n",
       "24      1    A           3  2010-02-05      13740.12       False   \n",
       "36      1    A           4  2010-02-05      39954.04       False   \n",
       "48      1    A           5  2010-02-05      32229.38       False   \n",
       "\n",
       "    temperature_c  fuel_price_usd_per_l  unemployment  \n",
       "0        5.727778              0.679451         8.106  \n",
       "12       5.727778              0.679451         8.106  \n",
       "24       5.727778              0.679451         8.106  \n",
       "36       5.727778              0.679451         8.106  \n",
       "48       5.727778              0.679451         8.106  "
      ]
     },
     "execution_count": 47,
     "metadata": {},
     "output_type": "execute_result"
    }
   ],
   "source": [
    "# Eliminar los duplicados de la combinacion de store/apartment\n",
    "store_depts = sales_sub.drop_duplicates(subset=['store', 'department'])\n",
    "store_depts.head()"
   ]
  },
  {
   "cell_type": "code",
   "execution_count": 49,
   "id": "7bd176c9",
   "metadata": {},
   "outputs": [
    {
     "data": {
      "text/html": [
       "<div>\n",
       "<style scoped>\n",
       "    .dataframe tbody tr th:only-of-type {\n",
       "        vertical-align: middle;\n",
       "    }\n",
       "\n",
       "    .dataframe tbody tr th {\n",
       "        vertical-align: top;\n",
       "    }\n",
       "\n",
       "    .dataframe thead th {\n",
       "        text-align: right;\n",
       "    }\n",
       "</style>\n",
       "<table border=\"1\" class=\"dataframe\">\n",
       "  <thead>\n",
       "    <tr style=\"text-align: right;\">\n",
       "      <th></th>\n",
       "      <th>date</th>\n",
       "    </tr>\n",
       "  </thead>\n",
       "  <tbody>\n",
       "    <tr>\n",
       "      <th>498</th>\n",
       "      <td>2010-09-10</td>\n",
       "    </tr>\n",
       "    <tr>\n",
       "      <th>691</th>\n",
       "      <td>2011-11-25</td>\n",
       "    </tr>\n",
       "    <tr>\n",
       "      <th>2315</th>\n",
       "      <td>2010-02-12</td>\n",
       "    </tr>\n",
       "    <tr>\n",
       "      <th>6735</th>\n",
       "      <td>2012-09-07</td>\n",
       "    </tr>\n",
       "    <tr>\n",
       "      <th>6810</th>\n",
       "      <td>2010-12-31</td>\n",
       "    </tr>\n",
       "    <tr>\n",
       "      <th>6815</th>\n",
       "      <td>2012-02-10</td>\n",
       "    </tr>\n",
       "    <tr>\n",
       "      <th>6820</th>\n",
       "      <td>2011-09-09</td>\n",
       "    </tr>\n",
       "  </tbody>\n",
       "</table>\n",
       "</div>"
      ],
      "text/plain": [
       "            date\n",
       "498   2010-09-10\n",
       "691   2011-11-25\n",
       "2315  2010-02-12\n",
       "6735  2012-09-07\n",
       "6810  2010-12-31\n",
       "6815  2012-02-10\n",
       "6820  2011-09-09"
      ]
     },
     "execution_count": 49,
     "metadata": {},
     "output_type": "execute_result"
    }
   ],
   "source": [
    "# Segmentar todas las filas donde el campo is_holiday sea True e eliminar los duplicados del campo date\n",
    "\n",
    "holiday_dates = sales_sub[sales_sub['is_holiday'] == True].drop_duplicates(subset='date')\n",
    "holiday_dates[['date']]\n"
   ]
  },
  {
   "cell_type": "markdown",
   "id": "7b75ecb8",
   "metadata": {},
   "source": [
    "## Contar variables categóricas\n",
    "\n",
    "Contar es una forma estupenda de tener una visión general de tus datos y de detectar curiosidades que de otro modo no notarías. En este ejercicio, contarás el número de cada tipo de tienda y el número de cada número de departamento utilizando los DataFrames que creaste en el ejercicio anterior:\n",
    "```\n",
    "# Drop duplicate store/type combinations\n",
    "store_types = sales.drop_duplicates(subset=[\"store\", \"type\"])\n",
    "\n",
    "# Drop duplicate store/department combinations\n",
    "store_depts = sales.drop_duplicates(subset=[\"store\", \"department\"])\n",
    "\n",
    "```\n",
    "Los DataFrames store_types y store_depts que creaste en el último ejercicio están disponibles, y pandas se importa como pd.\n",
    "\n",
    "**Instrucciones**\n",
    "\n",
    "- Cuenta el número de tiendas de cada tienda type en store_types.\n",
    "- Cuenta la proporción de tiendas de cada tienda type en store_types.\n",
    "- Cuenta el número de tiendas de cada department en store_depts, ordenando los recuentos en orden descendente.\n",
    "- Cuenta la proporción de tiendas de cada department en store_depts, ordenando las proporciones en orden descendente."
   ]
  },
  {
   "cell_type": "code",
   "execution_count": 51,
   "id": "620e1ba0",
   "metadata": {},
   "outputs": [
    {
     "data": {
      "text/html": [
       "<div>\n",
       "<style scoped>\n",
       "    .dataframe tbody tr th:only-of-type {\n",
       "        vertical-align: middle;\n",
       "    }\n",
       "\n",
       "    .dataframe tbody tr th {\n",
       "        vertical-align: top;\n",
       "    }\n",
       "\n",
       "    .dataframe thead th {\n",
       "        text-align: right;\n",
       "    }\n",
       "</style>\n",
       "<table border=\"1\" class=\"dataframe\">\n",
       "  <thead>\n",
       "    <tr style=\"text-align: right;\">\n",
       "      <th></th>\n",
       "      <th>store</th>\n",
       "      <th>type</th>\n",
       "      <th>department</th>\n",
       "      <th>date</th>\n",
       "      <th>weekly_sales</th>\n",
       "      <th>is_holiday</th>\n",
       "      <th>temperature_c</th>\n",
       "      <th>fuel_price_usd_per_l</th>\n",
       "      <th>unemployment</th>\n",
       "    </tr>\n",
       "  </thead>\n",
       "  <tbody>\n",
       "    <tr>\n",
       "      <th>0</th>\n",
       "      <td>1</td>\n",
       "      <td>A</td>\n",
       "      <td>1</td>\n",
       "      <td>2010-02-05</td>\n",
       "      <td>24924.50</td>\n",
       "      <td>False</td>\n",
       "      <td>5.727778</td>\n",
       "      <td>0.679451</td>\n",
       "      <td>8.106</td>\n",
       "    </tr>\n",
       "    <tr>\n",
       "      <th>901</th>\n",
       "      <td>2</td>\n",
       "      <td>A</td>\n",
       "      <td>1</td>\n",
       "      <td>2010-02-05</td>\n",
       "      <td>35034.06</td>\n",
       "      <td>False</td>\n",
       "      <td>4.550000</td>\n",
       "      <td>0.679451</td>\n",
       "      <td>8.324</td>\n",
       "    </tr>\n",
       "    <tr>\n",
       "      <th>1798</th>\n",
       "      <td>4</td>\n",
       "      <td>A</td>\n",
       "      <td>1</td>\n",
       "      <td>2010-02-05</td>\n",
       "      <td>38724.42</td>\n",
       "      <td>False</td>\n",
       "      <td>6.533333</td>\n",
       "      <td>0.686319</td>\n",
       "      <td>8.623</td>\n",
       "    </tr>\n",
       "    <tr>\n",
       "      <th>2699</th>\n",
       "      <td>6</td>\n",
       "      <td>A</td>\n",
       "      <td>1</td>\n",
       "      <td>2010-02-05</td>\n",
       "      <td>25619.00</td>\n",
       "      <td>False</td>\n",
       "      <td>4.683333</td>\n",
       "      <td>0.679451</td>\n",
       "      <td>7.259</td>\n",
       "    </tr>\n",
       "    <tr>\n",
       "      <th>3593</th>\n",
       "      <td>10</td>\n",
       "      <td>B</td>\n",
       "      <td>1</td>\n",
       "      <td>2010-02-05</td>\n",
       "      <td>40212.84</td>\n",
       "      <td>False</td>\n",
       "      <td>12.411111</td>\n",
       "      <td>0.782478</td>\n",
       "      <td>9.765</td>\n",
       "    </tr>\n",
       "  </tbody>\n",
       "</table>\n",
       "</div>"
      ],
      "text/plain": [
       "      store type  department        date  weekly_sales  is_holiday  \\\n",
       "0         1    A           1  2010-02-05      24924.50       False   \n",
       "901       2    A           1  2010-02-05      35034.06       False   \n",
       "1798      4    A           1  2010-02-05      38724.42       False   \n",
       "2699      6    A           1  2010-02-05      25619.00       False   \n",
       "3593     10    B           1  2010-02-05      40212.84       False   \n",
       "\n",
       "      temperature_c  fuel_price_usd_per_l  unemployment  \n",
       "0          5.727778              0.679451         8.106  \n",
       "901        4.550000              0.679451         8.324  \n",
       "1798       6.533333              0.686319         8.623  \n",
       "2699       4.683333              0.679451         7.259  \n",
       "3593      12.411111              0.782478         9.765  "
      ]
     },
     "execution_count": 51,
     "metadata": {},
     "output_type": "execute_result"
    }
   ],
   "source": [
    "store_types.head()"
   ]
  },
  {
   "cell_type": "code",
   "execution_count": 52,
   "id": "8540475b",
   "metadata": {},
   "outputs": [
    {
     "data": {
      "text/html": [
       "<div>\n",
       "<style scoped>\n",
       "    .dataframe tbody tr th:only-of-type {\n",
       "        vertical-align: middle;\n",
       "    }\n",
       "\n",
       "    .dataframe tbody tr th {\n",
       "        vertical-align: top;\n",
       "    }\n",
       "\n",
       "    .dataframe thead th {\n",
       "        text-align: right;\n",
       "    }\n",
       "</style>\n",
       "<table border=\"1\" class=\"dataframe\">\n",
       "  <thead>\n",
       "    <tr style=\"text-align: right;\">\n",
       "      <th></th>\n",
       "      <th>type</th>\n",
       "    </tr>\n",
       "  </thead>\n",
       "  <tbody>\n",
       "    <tr>\n",
       "      <th>0</th>\n",
       "      <td>A</td>\n",
       "    </tr>\n",
       "    <tr>\n",
       "      <th>901</th>\n",
       "      <td>A</td>\n",
       "    </tr>\n",
       "    <tr>\n",
       "      <th>1798</th>\n",
       "      <td>A</td>\n",
       "    </tr>\n",
       "    <tr>\n",
       "      <th>2699</th>\n",
       "      <td>A</td>\n",
       "    </tr>\n",
       "    <tr>\n",
       "      <th>3593</th>\n",
       "      <td>B</td>\n",
       "    </tr>\n",
       "    <tr>\n",
       "      <th>4495</th>\n",
       "      <td>A</td>\n",
       "    </tr>\n",
       "    <tr>\n",
       "      <th>5408</th>\n",
       "      <td>A</td>\n",
       "    </tr>\n",
       "    <tr>\n",
       "      <th>6293</th>\n",
       "      <td>A</td>\n",
       "    </tr>\n",
       "    <tr>\n",
       "      <th>7199</th>\n",
       "      <td>A</td>\n",
       "    </tr>\n",
       "    <tr>\n",
       "      <th>8109</th>\n",
       "      <td>A</td>\n",
       "    </tr>\n",
       "    <tr>\n",
       "      <th>9009</th>\n",
       "      <td>A</td>\n",
       "    </tr>\n",
       "    <tr>\n",
       "      <th>9899</th>\n",
       "      <td>A</td>\n",
       "    </tr>\n",
       "  </tbody>\n",
       "</table>\n",
       "</div>"
      ],
      "text/plain": [
       "     type\n",
       "0       A\n",
       "901     A\n",
       "1798    A\n",
       "2699    A\n",
       "3593    B\n",
       "4495    A\n",
       "5408    A\n",
       "6293    A\n",
       "7199    A\n",
       "8109    A\n",
       "9009    A\n",
       "9899    A"
      ]
     },
     "execution_count": 52,
     "metadata": {},
     "output_type": "execute_result"
    }
   ],
   "source": [
    "store_types[['type']]"
   ]
  },
  {
   "cell_type": "code",
   "execution_count": 50,
   "id": "778fe329",
   "metadata": {},
   "outputs": [
    {
     "data": {
      "text/plain": [
       "type\n",
       "A    11\n",
       "B     1\n",
       "Name: count, dtype: int64"
      ]
     },
     "execution_count": 50,
     "metadata": {},
     "output_type": "execute_result"
    }
   ],
   "source": [
    "# Contar el numero de tiendas de cada tipo\n",
    "store_counts = store_types['type'].value_counts()\n",
    "store_counts"
   ]
  },
  {
   "cell_type": "code",
   "execution_count": 55,
   "id": "e1c19e3d",
   "metadata": {},
   "outputs": [
    {
     "data": {
      "text/plain": [
       "type\n",
       "A    11\n",
       "B     1\n",
       "Name: count, dtype: int64"
      ]
     },
     "execution_count": 55,
     "metadata": {},
     "output_type": "execute_result"
    }
   ],
   "source": [
    "# Obtener la proporcion de tiendas de cada tipo\n",
    "store_props = store_types['type'].value_counts()\n",
    "store_props"
   ]
  },
  {
   "cell_type": "code",
   "execution_count": 56,
   "id": "31ca2f43",
   "metadata": {},
   "outputs": [
    {
     "data": {
      "text/plain": [
       "department\n",
       "1     12\n",
       "2     12\n",
       "3     12\n",
       "4     12\n",
       "5     12\n",
       "      ..\n",
       "37    10\n",
       "48     8\n",
       "50     6\n",
       "39     4\n",
       "43     2\n",
       "Name: count, Length: 80, dtype: int64"
      ]
     },
     "execution_count": 56,
     "metadata": {},
     "output_type": "execute_result"
    }
   ],
   "source": [
    "# Contar el numero de tienda por cada departamento y ordenado\n",
    "dept_counts_sorted = store_depts['department'].value_counts(sort=True)\n",
    "dept_counts_sorted"
   ]
  },
  {
   "cell_type": "code",
   "execution_count": null,
   "id": "0b8dca15",
   "metadata": {},
   "outputs": [],
   "source": [
    "# Obtener la proporcion de las tiendas en cada departamento y ordenadas"
   ]
  },
  {
   "cell_type": "markdown",
   "id": "94d5fce9",
   "metadata": {},
   "source": [
    "## Estadisticas resumidas agrupadas\n",
    "\n",
    "### ¿Qué porcentaje de ventas se produjo en cada tipo de tienda?\n",
    "\n",
    "Aunque .groupby() es útil, puedes calcular estadísticas de resumen agrupadas sin él.\n",
    "\n",
    "Walmart distingue tres tipos de tiendas: \"supercentros\", \"tiendas de descuento\" y \"mercados de barrio\", codificados en este conjunto de datos como tipo \"A\", \"B\" y \"C\". En este ejercicio, calcularás las ventas totales realizadas en cada tipo de tienda, sin utilizar .groupby(). A continuación, puedes utilizar estas cifras para ver qué proporción de las ventas totales de Walmart se realizaron en cada tipo.\n",
    "\n",
    "sales está disponible y pandas se importa como pd.\n",
    "\n",
    "**Instrucciones**\n",
    "\n",
    "- Calcula el total de weekly_sales en todo el conjunto de datos.\n",
    "- Subconjunto para las tiendas type \"A\", y calcula sus ventas semanales totales.\n",
    "- Haz lo mismo en las tiendas type \"B\" y type \"C\".\n",
    "- Combina los resultados A/B/C en una lista, y divídela por sales_all para obtener la proporción de ventas por tipo."
   ]
  },
  {
   "cell_type": "code",
   "execution_count": 57,
   "id": "0cb24c20",
   "metadata": {},
   "outputs": [
    {
     "data": {
      "text/plain": [
       "np.float64(256894718.89999998)"
      ]
     },
     "execution_count": 57,
     "metadata": {},
     "output_type": "execute_result"
    }
   ],
   "source": [
    "# Calcular el total de ventas por semana\n",
    "sales_all = sales_sub['weekly_sales'].sum()\n",
    "sales_all"
   ]
  },
  {
   "cell_type": "code",
   "execution_count": 59,
   "id": "a2eba63c",
   "metadata": {},
   "outputs": [
    {
     "data": {
      "text/plain": [
       "np.float64(233716315.01)"
      ]
     },
     "execution_count": 59,
     "metadata": {},
     "output_type": "execute_result"
    }
   ],
   "source": [
    "# Segmentar para los tipos A, calcular el total de ventes por semana\n",
    "sales_A = sales_sub[sales_sub['type'] == 'A']['weekly_sales'].sum()\n",
    "sales_A"
   ]
  },
  {
   "cell_type": "code",
   "execution_count": 60,
   "id": "f76ed759",
   "metadata": {},
   "outputs": [
    {
     "data": {
      "text/plain": [
       "np.float64(23178403.89)"
      ]
     },
     "execution_count": 60,
     "metadata": {},
     "output_type": "execute_result"
    }
   ],
   "source": [
    "sales_B = sales_sub[sales_sub['type'] == 'B']['weekly_sales'].sum()\n",
    "sales_B"
   ]
  },
  {
   "cell_type": "code",
   "execution_count": 61,
   "id": "7fe2b010",
   "metadata": {},
   "outputs": [
    {
     "data": {
      "text/plain": [
       "np.float64(0.0)"
      ]
     },
     "execution_count": 61,
     "metadata": {},
     "output_type": "execute_result"
    }
   ],
   "source": [
    "sales_C = sales_sub[sales_sub['type'] == 'C']['weekly_sales'].sum()\n",
    "sales_C"
   ]
  },
  {
   "cell_type": "code",
   "execution_count": 62,
   "id": "cda73e7b",
   "metadata": {},
   "outputs": [
    {
     "data": {
      "text/plain": [
       "array([90.97746969,  9.02253031,  0.        ])"
      ]
     },
     "execution_count": 62,
     "metadata": {},
     "output_type": "execute_result"
    }
   ],
   "source": [
    "sales_props_by_type = [sales_A, sales_B, sales_C] / sales_all * 100\n",
    "sales_props_by_type"
   ]
  }
 ],
 "metadata": {
  "kernelspec": {
   "display_name": "Python 3",
   "language": "python",
   "name": "python3"
  },
  "language_info": {
   "codemirror_mode": {
    "name": "ipython",
    "version": 3
   },
   "file_extension": ".py",
   "mimetype": "text/x-python",
   "name": "python",
   "nbconvert_exporter": "python",
   "pygments_lexer": "ipython3",
   "version": "3.13.3"
  }
 },
 "nbformat": 4,
 "nbformat_minor": 5
}
