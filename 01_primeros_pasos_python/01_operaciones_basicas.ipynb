{
 "cells": [
  {
   "cell_type": "markdown",
   "id": "3b04effb",
   "metadata": {},
   "source": [
    "# Operaciones Basicas en Python"
   ]
  },
  {
   "cell_type": "markdown",
   "id": "9d245252",
   "metadata": {},
   "source": [
    "## Declaracion de variables y asignacion de datos\n",
    "\n",
    "**Se describen los tipos de datos existentes en python y la forma de imprimirlos**"
   ]
  },
  {
   "cell_type": "code",
   "execution_count": null,
   "id": "98a58d7a",
   "metadata": {},
   "outputs": [
    {
     "ename": "",
     "evalue": "",
     "output_type": "error",
     "traceback": [
      "\u001b[1;31mRunning cells with 'Python 3.13.3' requires the ipykernel package.\n",
      "\u001b[1;31m<a href='command:jupyter.createPythonEnvAndSelectController'>Create a Python Environment</a> with the required packages.\n",
      "\u001b[1;31mOr install 'ipykernel' using the command: 'c:/Users/gusta/AppData/Local/Programs/Python/Python313/python.exe -m pip install ipykernel -U --user --force-reinstall'"
     ]
    }
   ],
   "source": [
    "# Declaracion de variable y tipos\n",
    "\n",
    "a = 1 # Variable de tipo int\n",
    "b = 2.3 # Variable de como Flotante\n",
    "c = True # Variable de tipo boolean\n",
    "d = False # Variable tipo boolean\n",
    "e = \"Hola Mundo\"\n",
    "f = 'Hola Negocios Digitales'"
   ]
  },
  {
   "cell_type": "code",
   "execution_count": null,
   "id": "a9f5af91",
   "metadata": {},
   "outputs": [],
   "source": []
  }
 ],
 "metadata": {
  "kernelspec": {
   "display_name": "Python 3",
   "language": "python",
   "name": "python3"
  },
  "language_info": {
   "name": "python",
   "version": "3.13.3"
  }
 },
 "nbformat": 4,
 "nbformat_minor": 5
}
